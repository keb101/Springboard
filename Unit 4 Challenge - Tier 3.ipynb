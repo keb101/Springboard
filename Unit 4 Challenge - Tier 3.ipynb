{
 "cells": [
  {
   "cell_type": "markdown",
   "metadata": {
    "colab_type": "text",
    "id": "Tia3MP1SJpgj"
   },
   "source": [
    "# Springboard Data Science Career Track Unit 4 Challenge - Tier 3 Complete\n",
    "\n",
    "## Objectives\n",
    "Hey! Great job getting through those challenging DataCamp courses. You're learning a lot in a short span of time. \n",
    "\n",
    "In this notebook, you're going to apply the skills you've been learning, bridging the gap between the controlled environment of DataCamp and the *slightly* messier work that data scientists do with actual datasets!\n",
    "\n",
    "Here’s the mystery we’re going to solve: ***which boroughs of London have seen the greatest increase in housing prices, on average, over the last two decades?***\n",
    "\n",
    "\n",
    "A borough is just a fancy word for district. You may be familiar with the five boroughs of New York… well, there are 32 boroughs within Greater London [(here's some info for the curious)](https://en.wikipedia.org/wiki/London_boroughs). Some of them are more desirable areas to live in, and the data will reflect that with a greater rise in housing prices.\n",
    "\n",
    "***This is the Tier 3 notebook, which means it's not filled in at all: we'll just give you the skeleton of a project, the brief and the data. It's up to you to play around with it and see what you can find out! Good luck! If you struggle, feel free to look at easier tiers for help; but try to dip in and out of them, as the more independent work you do, the better it is for your learning!***\n",
    "\n",
    "This challenge will make use of only what you learned in the following DataCamp courses: \n",
    "- Prework courses (Introduction to Python for Data Science, Intermediate Python for Data Science)\n",
    "- Data Types for Data Science\n",
    "- Python Data Science Toolbox (Part One) \n",
    "- pandas Foundations\n",
    "- Manipulating DataFrames with pandas\n",
    "- Merging DataFrames with pandas\n",
    "\n",
    "Of the tools, techniques and concepts in the above DataCamp courses, this challenge should require the application of the following: \n",
    "- **pandas**\n",
    "    - **data ingestion and inspection** (pandas Foundations, Module One) \n",
    "    - **exploratory data analysis** (pandas Foundations, Module Two)\n",
    "    - **tidying and cleaning** (Manipulating DataFrames with pandas, Module Three) \n",
    "    - **transforming DataFrames** (Manipulating DataFrames with pandas, Module One)\n",
    "    - **subsetting DataFrames with lists** (Manipulating DataFrames with pandas, Module One) \n",
    "    - **filtering DataFrames** (Manipulating DataFrames with pandas, Module One) \n",
    "    - **grouping data** (Manipulating DataFrames with pandas, Module Four) \n",
    "    - **melting data** (Manipulating DataFrames with pandas, Module Three) \n",
    "    - **advanced indexing** (Manipulating DataFrames with pandas, Module Four) \n",
    "- **matplotlib** (Intermediate Python for Data Science, Module One)\n",
    "- **fundamental data types** (Data Types for Data Science, Module One) \n",
    "- **dictionaries** (Intermediate Python for Data Science, Module Two)\n",
    "- **handling dates and times** (Data Types for Data Science, Module Four)\n",
    "- **function definition** (Python Data Science Toolbox - Part One, Module One)\n",
    "- **default arguments, variable length, and scope** (Python Data Science Toolbox - Part One, Module Two) \n",
    "- **lambda functions and error handling** (Python Data Science Toolbox - Part One, Module Four) "
   ]
  },
  {
   "cell_type": "markdown",
   "metadata": {
    "colab_type": "text",
    "id": "Ipgd2nV8Jpgl"
   },
   "source": [
    "## The Data Science Pipeline\n",
    "\n",
    "This is Tier Three, so we'll get you started. But after that, it's all in your hands! When you feel done with your investigations, look back over what you've accomplished, and prepare a quick presentation of your findings for the next mentor meeting. \n",
    "\n",
    "Data Science is magical. In this case study, you'll get to apply some complex machine learning algorithms. But as  [David Spiegelhalter](https://www.youtube.com/watch?v=oUs1uvsz0Ok) reminds us, there is no substitute for simply **taking a really, really good look at the data.** Sometimes, this is all we need to answer our question.\n",
    "\n",
    "Data Science projects generally adhere to the four stages of Data Science Pipeline:\n",
    "1. Sourcing and loading \n",
    "2. Cleaning, transforming, and visualizing \n",
    "3. Modeling \n",
    "4. Evaluating and concluding \n"
   ]
  },
  {
   "cell_type": "markdown",
   "metadata": {
    "colab_type": "text",
    "id": "zswDqbefJpgm"
   },
   "source": [
    "### 1. Sourcing and Loading \n",
    "\n",
    "Any Data Science project kicks off by importing  ***pandas***. The documentation of this wonderful library can be found [here](https://pandas.pydata.org/). As you've seen, pandas is conveniently connected to the [Numpy](http://www.numpy.org/) and [Matplotlib](https://matplotlib.org/) libraries. \n",
    "\n",
    "***Hint:*** This part of the data science pipeline will test those skills you acquired in the pandas Foundations course, Module One. "
   ]
  },
  {
   "cell_type": "markdown",
   "metadata": {
    "colab_type": "text",
    "id": "aEau5nEvJpgm"
   },
   "source": [
    "#### 1.1. Importing Libraries"
   ]
  },
  {
   "cell_type": "code",
<<<<<<< HEAD
   "execution_count": 107,
=======
   "execution_count": 1,
>>>>>>> c6308ce03cc318f41e9de78225af037fd116aefb
   "metadata": {
    "colab": {},
    "colab_type": "code",
    "id": "7Bt_Q_oPJpgn"
   },
   "outputs": [],
   "source": [
    "# Let's import the pandas, numpy libraries as pd, and np respectively. \n",
    "import pandas as pd\n",
    "import numpy as np\n",
    "\n",
    "# Load the pyplot collection of functions from matplotlib, as plt \n",
    "import matplotlib.pyplot as plt"
   ]
  },
  {
   "cell_type": "markdown",
   "metadata": {
    "colab_type": "text",
    "id": "koUrawxsJpgq"
   },
   "source": [
    "#### 1.2.  Loading the data\n",
    "Your data comes from the [London Datastore](https://data.london.gov.uk/): a free, open-source data-sharing portal for London-oriented datasets. "
   ]
  },
  {
   "cell_type": "code",
<<<<<<< HEAD
   "execution_count": 108,
=======
   "execution_count": 2,
>>>>>>> c6308ce03cc318f41e9de78225af037fd116aefb
   "metadata": {
    "colab": {},
    "colab_type": "code",
    "id": "AiLiD4v3Jpgr"
   },
   "outputs": [],
   "source": [
    "# First, make a variable called url_LondonHousePrices, and assign it the following link, enclosed in quotation-marks as a string:\n",
    "# https://data.london.gov.uk/download/uk-house-price-index/70ac0766-8902-4eb5-aab5-01951aaed773/UK%20House%20price%20index.xls\n",
    "\n",
    "url_LondonHousePrices= \"https://data.london.gov.uk/download/uk-house-price-index/70ac0766-8902-4eb5-aab5-01951aaed773/UK%20House%20price%20index.xls\"\n",
    "\n",
    "# The dataset we're interested in contains the Average prices of the houses, and is actually on a particular sheet of the Excel file. \n",
    "# As a result, we need to specify the sheet name in the read_excel() method.\n",
    "# Put this data into a variable called properties.  \n",
    "properties = pd.read_excel(url_LondonHousePrices, sheet_name='Average price', index_col= None)"
   ]
  },
  {
   "cell_type": "markdown",
   "metadata": {
    "colab_type": "text",
    "id": "POukEJXgJpgu"
   },
   "source": [
    "### 2. Cleaning, transforming, and visualizing\n",
    "This second stage is arguably the most important part of any Data Science project. The first thing to do is take a proper look at the data. Cleaning forms the majority of this stage, and can be done both before or after Transformation.\n",
    "\n",
    "The end goal of data cleaning is to have tidy data. When data is tidy: \n",
    "\n",
    "1. Each variable has a column.\n",
    "2. Each observation forms a row.\n",
    "\n",
    "Keep the end goal in mind as you move through this process, every step will take you closer. \n",
    "\n",
    "\n",
    "\n",
    "***Hint:*** This part of the data science pipeline should test those skills you acquired in: \n",
    "- Intermediate Python for data science, all modules.\n",
    "- pandas Foundations, all modules. \n",
    "- Manipulating DataFrames with pandas, all modules.\n",
    "- Data Types for Data Science, Module Four.\n",
    "- Python Data Science Toolbox - Part One, all modules"
   ]
  },
  {
   "cell_type": "markdown",
   "metadata": {
    "colab_type": "text",
    "id": "Te0Q548tnzZa"
   },
   "source": [
    "**2.1. Exploring your data** \n",
    "\n",
    "Think about your pandas functions for checking out a dataframe. "
   ]
  },
  {
   "cell_type": "code",
<<<<<<< HEAD
   "execution_count": 109,
=======
   "execution_count": 3,
>>>>>>> c6308ce03cc318f41e9de78225af037fd116aefb
   "metadata": {
    "colab": {},
    "colab_type": "code",
    "id": "Rxirxw_qoAJa"
   },
   "outputs": [
    {
     "data": {
      "text/html": [
       "<div>\n",
       "<style scoped>\n",
       "    .dataframe tbody tr th:only-of-type {\n",
       "        vertical-align: middle;\n",
       "    }\n",
       "\n",
       "    .dataframe tbody tr th {\n",
       "        vertical-align: top;\n",
       "    }\n",
       "\n",
       "    .dataframe thead th {\n",
       "        text-align: right;\n",
       "    }\n",
       "</style>\n",
       "<table border=\"1\" class=\"dataframe\">\n",
       "  <thead>\n",
       "    <tr style=\"text-align: right;\">\n",
       "      <th></th>\n",
       "      <th>Unnamed: 0</th>\n",
       "      <th>City of London</th>\n",
       "      <th>Barking &amp; Dagenham</th>\n",
       "      <th>Barnet</th>\n",
       "      <th>Bexley</th>\n",
       "      <th>Brent</th>\n",
       "      <th>Bromley</th>\n",
       "      <th>Camden</th>\n",
       "      <th>Croydon</th>\n",
       "      <th>Ealing</th>\n",
       "      <th>...</th>\n",
       "      <th>NORTH WEST</th>\n",
       "      <th>YORKS &amp; THE HUMBER</th>\n",
       "      <th>EAST MIDLANDS</th>\n",
       "      <th>WEST MIDLANDS</th>\n",
       "      <th>EAST OF ENGLAND</th>\n",
       "      <th>LONDON</th>\n",
       "      <th>SOUTH EAST</th>\n",
       "      <th>SOUTH WEST</th>\n",
       "      <th>Unnamed: 47</th>\n",
       "      <th>England</th>\n",
       "    </tr>\n",
       "  </thead>\n",
       "  <tbody>\n",
       "    <tr>\n",
       "      <th>0</th>\n",
       "      <td>NaT</td>\n",
       "      <td>E09000001</td>\n",
       "      <td>E09000002</td>\n",
       "      <td>E09000003</td>\n",
       "      <td>E09000004</td>\n",
       "      <td>E09000005</td>\n",
       "      <td>E09000006</td>\n",
       "      <td>E09000007</td>\n",
       "      <td>E09000008</td>\n",
       "      <td>E09000009</td>\n",
       "      <td>...</td>\n",
       "      <td>E12000002</td>\n",
       "      <td>E12000003</td>\n",
       "      <td>E12000004</td>\n",
       "      <td>E12000005</td>\n",
       "      <td>E12000006</td>\n",
       "      <td>E12000007</td>\n",
       "      <td>E12000008</td>\n",
       "      <td>E12000009</td>\n",
       "      <td>NaN</td>\n",
       "      <td>E92000001</td>\n",
       "    </tr>\n",
       "    <tr>\n",
       "      <th>1</th>\n",
       "      <td>1995-01-01</td>\n",
       "      <td>91448.98487</td>\n",
       "      <td>50460.2266</td>\n",
       "      <td>93284.51832</td>\n",
       "      <td>64958.09036</td>\n",
       "      <td>71306.56698</td>\n",
       "      <td>81671.47692</td>\n",
       "      <td>120932.8881</td>\n",
       "      <td>69158.16225</td>\n",
       "      <td>79885.89069</td>\n",
       "      <td>...</td>\n",
       "      <td>43958.48001</td>\n",
       "      <td>44803.42878</td>\n",
       "      <td>45544.52227</td>\n",
       "      <td>48527.52339</td>\n",
       "      <td>56701.5961</td>\n",
       "      <td>74435.76052</td>\n",
       "      <td>64018.87894</td>\n",
       "      <td>54705.1579</td>\n",
       "      <td>NaN</td>\n",
       "      <td>53202.77128</td>\n",
       "    </tr>\n",
       "    <tr>\n",
       "      <th>2</th>\n",
       "      <td>1995-02-01</td>\n",
       "      <td>82202.77314</td>\n",
       "      <td>51085.77983</td>\n",
       "      <td>93190.16963</td>\n",
       "      <td>64787.92069</td>\n",
       "      <td>72022.26197</td>\n",
       "      <td>81657.55944</td>\n",
       "      <td>119508.8622</td>\n",
       "      <td>68951.09542</td>\n",
       "      <td>80897.06551</td>\n",
       "      <td>...</td>\n",
       "      <td>43925.42289</td>\n",
       "      <td>44528.80721</td>\n",
       "      <td>46051.57066</td>\n",
       "      <td>49341.29029</td>\n",
       "      <td>56593.59475</td>\n",
       "      <td>72777.93709</td>\n",
       "      <td>63715.02399</td>\n",
       "      <td>54356.14843</td>\n",
       "      <td>NaN</td>\n",
       "      <td>53096.1549</td>\n",
       "    </tr>\n",
       "    <tr>\n",
       "      <th>3</th>\n",
       "      <td>1995-03-01</td>\n",
       "      <td>79120.70256</td>\n",
       "      <td>51268.96956</td>\n",
       "      <td>92247.52435</td>\n",
       "      <td>64367.49344</td>\n",
       "      <td>72015.76274</td>\n",
       "      <td>81449.31143</td>\n",
       "      <td>120282.2131</td>\n",
       "      <td>68712.44341</td>\n",
       "      <td>81379.86288</td>\n",
       "      <td>...</td>\n",
       "      <td>44434.8681</td>\n",
       "      <td>45200.46775</td>\n",
       "      <td>45383.82395</td>\n",
       "      <td>49442.17973</td>\n",
       "      <td>56171.18278</td>\n",
       "      <td>73896.84204</td>\n",
       "      <td>64113.60858</td>\n",
       "      <td>53583.07667</td>\n",
       "      <td>NaN</td>\n",
       "      <td>53201.2843</td>\n",
       "    </tr>\n",
       "    <tr>\n",
       "      <th>4</th>\n",
       "      <td>1995-04-01</td>\n",
       "      <td>77101.20804</td>\n",
       "      <td>53133.50526</td>\n",
       "      <td>90762.87492</td>\n",
       "      <td>64277.66881</td>\n",
       "      <td>72965.63094</td>\n",
       "      <td>81124.41227</td>\n",
       "      <td>120097.899</td>\n",
       "      <td>68610.04641</td>\n",
       "      <td>82188.90498</td>\n",
       "      <td>...</td>\n",
       "      <td>44267.7796</td>\n",
       "      <td>45614.34341</td>\n",
       "      <td>46124.23045</td>\n",
       "      <td>49455.93299</td>\n",
       "      <td>56567.89582</td>\n",
       "      <td>74455.28754</td>\n",
       "      <td>64623.22395</td>\n",
       "      <td>54786.01938</td>\n",
       "      <td>NaN</td>\n",
       "      <td>53590.8548</td>\n",
       "    </tr>\n",
       "  </tbody>\n",
       "</table>\n",
       "<p>5 rows × 49 columns</p>\n",
       "</div>"
      ],
      "text/plain": [
       "  Unnamed: 0 City of London Barking & Dagenham       Barnet       Bexley  \\\n",
       "0        NaT      E09000001          E09000002    E09000003    E09000004   \n",
       "1 1995-01-01    91448.98487         50460.2266  93284.51832  64958.09036   \n",
       "2 1995-02-01    82202.77314        51085.77983  93190.16963  64787.92069   \n",
       "3 1995-03-01    79120.70256        51268.96956  92247.52435  64367.49344   \n",
       "4 1995-04-01    77101.20804        53133.50526  90762.87492  64277.66881   \n",
       "\n",
       "         Brent      Bromley       Camden      Croydon       Ealing  ...  \\\n",
       "0    E09000005    E09000006    E09000007    E09000008    E09000009  ...   \n",
       "1  71306.56698  81671.47692  120932.8881  69158.16225  79885.89069  ...   \n",
       "2  72022.26197  81657.55944  119508.8622  68951.09542  80897.06551  ...   \n",
       "3  72015.76274  81449.31143  120282.2131  68712.44341  81379.86288  ...   \n",
       "4  72965.63094  81124.41227   120097.899  68610.04641  82188.90498  ...   \n",
       "\n",
       "    NORTH WEST YORKS & THE HUMBER EAST MIDLANDS WEST MIDLANDS EAST OF ENGLAND  \\\n",
       "0    E12000002          E12000003     E12000004     E12000005       E12000006   \n",
       "1  43958.48001        44803.42878   45544.52227   48527.52339      56701.5961   \n",
       "2  43925.42289        44528.80721   46051.57066   49341.29029     56593.59475   \n",
       "3   44434.8681        45200.46775   45383.82395   49442.17973     56171.18278   \n",
       "4   44267.7796        45614.34341   46124.23045   49455.93299     56567.89582   \n",
       "\n",
       "        LONDON   SOUTH EAST   SOUTH WEST Unnamed: 47      England  \n",
       "0    E12000007    E12000008    E12000009         NaN    E92000001  \n",
       "1  74435.76052  64018.87894   54705.1579         NaN  53202.77128  \n",
       "2  72777.93709  63715.02399  54356.14843         NaN   53096.1549  \n",
       "3  73896.84204  64113.60858  53583.07667         NaN   53201.2843  \n",
       "4  74455.28754  64623.22395  54786.01938         NaN   53590.8548  \n",
       "\n",
       "[5 rows x 49 columns]"
      ]
     },
<<<<<<< HEAD
     "execution_count": 109,
=======
     "execution_count": 3,
>>>>>>> c6308ce03cc318f41e9de78225af037fd116aefb
     "metadata": {},
     "output_type": "execute_result"
    }
   ],
   "source": [
    "properties.head()\n",
    "\n"
   ]
  },
  {
   "cell_type": "markdown",
   "metadata": {
    "colab_type": "text",
    "id": "tE9Sqt9-oAta"
   },
   "source": [
    "**2.2. Cleaning the data**\n",
    "\n",
    "You might find you need to transpose your dataframe, check out what its row indexes are, and reset the index. You  also might find you need to assign the values of the first row to your column headings  . (Hint: recall the .columns feature of DataFrames, as well as the iloc[] method).\n",
    "\n",
    "Don't be afraid to use StackOverflow for help  with this."
   ]
  },
  {
   "cell_type": "code",
<<<<<<< HEAD
   "execution_count": 110,
=======
   "execution_count": 4,
>>>>>>> c6308ce03cc318f41e9de78225af037fd116aefb
   "metadata": {
    "colab": {},
    "colab_type": "code",
    "id": "cdAu1A3YoH_r"
   },
   "outputs": [
    {
     "data": {
      "text/html": [
       "<div>\n",
       "<style scoped>\n",
       "    .dataframe tbody tr th:only-of-type {\n",
       "        vertical-align: middle;\n",
       "    }\n",
       "\n",
       "    .dataframe tbody tr th {\n",
       "        vertical-align: top;\n",
       "    }\n",
       "\n",
       "    .dataframe thead th {\n",
       "        text-align: right;\n",
       "    }\n",
       "</style>\n",
       "<table border=\"1\" class=\"dataframe\">\n",
       "  <thead>\n",
       "    <tr style=\"text-align: right;\">\n",
       "      <th></th>\n",
       "      <th>Unnamed: 0</th>\n",
       "      <th>NaT</th>\n",
       "      <th>1995-01-01 00:00:00</th>\n",
       "      <th>1995-02-01 00:00:00</th>\n",
       "      <th>1995-03-01 00:00:00</th>\n",
       "      <th>1995-04-01 00:00:00</th>\n",
       "      <th>1995-05-01 00:00:00</th>\n",
       "      <th>1995-06-01 00:00:00</th>\n",
       "      <th>1995-07-01 00:00:00</th>\n",
       "      <th>1995-08-01 00:00:00</th>\n",
       "      <th>...</th>\n",
       "      <th>2022-03-01 00:00:00</th>\n",
       "      <th>2022-04-01 00:00:00</th>\n",
       "      <th>2022-05-01 00:00:00</th>\n",
       "      <th>2022-06-01 00:00:00</th>\n",
       "      <th>2022-07-01 00:00:00</th>\n",
       "      <th>2022-08-01 00:00:00</th>\n",
       "      <th>2022-09-01 00:00:00</th>\n",
       "      <th>2022-10-01 00:00:00</th>\n",
       "      <th>2022-11-01 00:00:00</th>\n",
       "      <th>2022-12-01 00:00:00</th>\n",
       "    </tr>\n",
       "  </thead>\n",
       "  <tbody>\n",
       "    <tr>\n",
       "      <th>1</th>\n",
       "      <td>City of London</td>\n",
       "      <td>E09000001</td>\n",
       "      <td>91448.98487</td>\n",
       "      <td>82202.77314</td>\n",
       "      <td>79120.70256</td>\n",
       "      <td>77101.20804</td>\n",
       "      <td>84409.14932</td>\n",
       "      <td>94900.51244</td>\n",
       "      <td>110128.0423</td>\n",
       "      <td>112329.4376</td>\n",
       "      <td>...</td>\n",
       "      <td>816775.77458</td>\n",
       "      <td>808791.66477</td>\n",
       "      <td>797896.0674</td>\n",
       "      <td>819762.37181</td>\n",
       "      <td>809689.46627</td>\n",
       "      <td>827996.60081</td>\n",
       "      <td>827441.27622</td>\n",
       "      <td>870799.60044</td>\n",
       "      <td>948073.2088</td>\n",
       "      <td>968059.9863</td>\n",
       "    </tr>\n",
       "    <tr>\n",
       "      <th>2</th>\n",
       "      <td>Barking &amp; Dagenham</td>\n",
       "      <td>E09000002</td>\n",
       "      <td>50460.2266</td>\n",
       "      <td>51085.77983</td>\n",
       "      <td>51268.96956</td>\n",
       "      <td>53133.50526</td>\n",
       "      <td>53042.24852</td>\n",
       "      <td>53700.34831</td>\n",
       "      <td>52113.12157</td>\n",
       "      <td>52232.19868</td>\n",
       "      <td>...</td>\n",
       "      <td>337639.17828</td>\n",
       "      <td>333921.39153</td>\n",
       "      <td>337201.79953</td>\n",
       "      <td>345873.99616</td>\n",
       "      <td>349371.12076</td>\n",
       "      <td>350239.35981</td>\n",
       "      <td>349653.85502</td>\n",
       "      <td>355290.62346</td>\n",
       "      <td>359495.10689</td>\n",
       "      <td>362054.07567</td>\n",
       "    </tr>\n",
       "    <tr>\n",
       "      <th>3</th>\n",
       "      <td>Barnet</td>\n",
       "      <td>E09000003</td>\n",
       "      <td>93284.51832</td>\n",
       "      <td>93190.16963</td>\n",
       "      <td>92247.52435</td>\n",
       "      <td>90762.87492</td>\n",
       "      <td>90258.00033</td>\n",
       "      <td>90107.23471</td>\n",
       "      <td>91441.24768</td>\n",
       "      <td>92361.31512</td>\n",
       "      <td>...</td>\n",
       "      <td>573655.09452</td>\n",
       "      <td>581811.27928</td>\n",
       "      <td>587188.06846</td>\n",
       "      <td>592754.89104</td>\n",
       "      <td>594041.83267</td>\n",
       "      <td>601931.6599</td>\n",
       "      <td>605424.18481</td>\n",
       "      <td>597777.32861</td>\n",
       "      <td>587967.70766</td>\n",
       "      <td>595486.30411</td>\n",
       "    </tr>\n",
       "    <tr>\n",
       "      <th>4</th>\n",
       "      <td>Bexley</td>\n",
       "      <td>E09000004</td>\n",
       "      <td>64958.09036</td>\n",
       "      <td>64787.92069</td>\n",
       "      <td>64367.49344</td>\n",
       "      <td>64277.66881</td>\n",
       "      <td>63997.13588</td>\n",
       "      <td>64252.32335</td>\n",
       "      <td>63722.70055</td>\n",
       "      <td>64432.60005</td>\n",
       "      <td>...</td>\n",
       "      <td>386972.05239</td>\n",
       "      <td>385161.3244</td>\n",
       "      <td>386673.4299</td>\n",
       "      <td>391819.71089</td>\n",
       "      <td>396385.99016</td>\n",
       "      <td>402667.50443</td>\n",
       "      <td>403468.56545</td>\n",
       "      <td>409719.69933</td>\n",
       "      <td>410407.63764</td>\n",
       "      <td>416059.80994</td>\n",
       "    </tr>\n",
       "    <tr>\n",
       "      <th>5</th>\n",
       "      <td>Brent</td>\n",
       "      <td>E09000005</td>\n",
       "      <td>71306.56698</td>\n",
       "      <td>72022.26197</td>\n",
       "      <td>72015.76274</td>\n",
       "      <td>72965.63094</td>\n",
       "      <td>73704.04743</td>\n",
       "      <td>74310.48167</td>\n",
       "      <td>74127.03788</td>\n",
       "      <td>73547.0411</td>\n",
       "      <td>...</td>\n",
       "      <td>508372.8301</td>\n",
       "      <td>522338.64309</td>\n",
       "      <td>533942.03626</td>\n",
       "      <td>536486.89116</td>\n",
       "      <td>552316.75952</td>\n",
       "      <td>562407.51963</td>\n",
       "      <td>584927.5386</td>\n",
       "      <td>578010.59307</td>\n",
       "      <td>572262.24808</td>\n",
       "      <td>566794.73925</td>\n",
       "    </tr>\n",
       "  </tbody>\n",
       "</table>\n",
       "<p>5 rows × 338 columns</p>\n",
       "</div>"
      ],
      "text/plain": [
       "0          Unnamed: 0        NaT 1995-01-01 00:00:00 1995-02-01 00:00:00  \\\n",
       "1      City of London  E09000001         91448.98487         82202.77314   \n",
       "2  Barking & Dagenham  E09000002          50460.2266         51085.77983   \n",
       "3              Barnet  E09000003         93284.51832         93190.16963   \n",
       "4              Bexley  E09000004         64958.09036         64787.92069   \n",
       "5               Brent  E09000005         71306.56698         72022.26197   \n",
       "\n",
       "0 1995-03-01 00:00:00 1995-04-01 00:00:00 1995-05-01 00:00:00  \\\n",
       "1         79120.70256         77101.20804         84409.14932   \n",
       "2         51268.96956         53133.50526         53042.24852   \n",
       "3         92247.52435         90762.87492         90258.00033   \n",
       "4         64367.49344         64277.66881         63997.13588   \n",
       "5         72015.76274         72965.63094         73704.04743   \n",
       "\n",
       "0 1995-06-01 00:00:00 1995-07-01 00:00:00 1995-08-01 00:00:00  ...  \\\n",
       "1         94900.51244         110128.0423         112329.4376  ...   \n",
       "2         53700.34831         52113.12157         52232.19868  ...   \n",
       "3         90107.23471         91441.24768         92361.31512  ...   \n",
       "4         64252.32335         63722.70055         64432.60005  ...   \n",
       "5         74310.48167         74127.03788          73547.0411  ...   \n",
       "\n",
       "0 2022-03-01 00:00:00 2022-04-01 00:00:00 2022-05-01 00:00:00  \\\n",
       "1        816775.77458        808791.66477         797896.0674   \n",
       "2        337639.17828        333921.39153        337201.79953   \n",
       "3        573655.09452        581811.27928        587188.06846   \n",
       "4        386972.05239         385161.3244         386673.4299   \n",
       "5         508372.8301        522338.64309        533942.03626   \n",
       "\n",
       "0 2022-06-01 00:00:00 2022-07-01 00:00:00 2022-08-01 00:00:00  \\\n",
       "1        819762.37181        809689.46627        827996.60081   \n",
       "2        345873.99616        349371.12076        350239.35981   \n",
       "3        592754.89104        594041.83267         601931.6599   \n",
       "4        391819.71089        396385.99016        402667.50443   \n",
       "5        536486.89116        552316.75952        562407.51963   \n",
       "\n",
       "0 2022-09-01 00:00:00 2022-10-01 00:00:00 2022-11-01 00:00:00  \\\n",
       "1        827441.27622        870799.60044         948073.2088   \n",
       "2        349653.85502        355290.62346        359495.10689   \n",
       "3        605424.18481        597777.32861        587967.70766   \n",
       "4        403468.56545        409719.69933        410407.63764   \n",
       "5         584927.5386        578010.59307        572262.24808   \n",
       "\n",
       "0 2022-12-01 00:00:00  \n",
       "1         968059.9863  \n",
       "2        362054.07567  \n",
       "3        595486.30411  \n",
       "4        416059.80994  \n",
       "5        566794.73925  \n",
       "\n",
       "[5 rows x 338 columns]"
      ]
     },
<<<<<<< HEAD
     "execution_count": 110,
=======
     "execution_count": 4,
>>>>>>> c6308ce03cc318f41e9de78225af037fd116aefb
     "metadata": {},
     "output_type": "execute_result"
    }
   ],
   "source": [
    "df = properties\n",
    "df = df.transpose()\n",
    "df = df.reset_index()\n",
    "df.head()\n",
    "df.columns = df.iloc[0]\n",
    "df = df.drop(df.index[0])\n",
    "df.head()"
   ]
  },
  {
   "cell_type": "markdown",
   "metadata": {
    "colab_type": "text",
    "id": "o1uLbJAsoIjK"
   },
   "source": [
    "**2.3. Cleaning the data (part 2)**\n",
    "\n",
    "You might we have to **rename** a couple columns. How do you do this? The clue's pretty bold..."
   ]
  },
  {
   "cell_type": "code",
<<<<<<< HEAD
   "execution_count": 111,
=======
   "execution_count": 5,
>>>>>>> c6308ce03cc318f41e9de78225af037fd116aefb
   "metadata": {
    "colab": {},
    "colab_type": "code",
    "id": "GKkmn1AnoVZS"
   },
   "outputs": [],
   "source": [
    "\n",
    "df = df.rename({'Unnamed: 0': \"Borough\"}, axis=1)\n",
    "df = df.rename({pd.NaT: 'ID'}, axis=1)\n",
    "\n",
    "\n",
    "\n",
    "\n",
    "\n",
    "df = df.drop(labels=1)\n",
    "df = df.drop(labels=(range(34,49)))\n",
    "df.reset_index(drop=True)\n",
    "boroughs = df['Borough'].values.tolist()\n",
    "\n"
   ]
  },
  {
   "cell_type": "markdown",
   "metadata": {
    "colab_type": "text",
    "id": "jy8BzXHmoWEw"
   },
   "source": [
    "**2.4.Transforming the data**\n",
    "\n",
    "Remember what Wes McKinney said about tidy data? \n",
    "\n",
    "You might need to **melt** your DataFrame here. "
   ]
  },
  {
   "cell_type": "code",
<<<<<<< HEAD
   "execution_count": 112,
=======
   "execution_count": 6,
>>>>>>> c6308ce03cc318f41e9de78225af037fd116aefb
   "metadata": {
    "colab": {},
    "colab_type": "code",
    "id": "S2wM0qLuo2Zt"
   },
   "outputs": [
    {
     "name": "stdout",
     "output_type": "stream",
     "text": [
      "              Borough         ID       date        price\n",
      "0  Barking & Dagenham  E09000002 1995-01-01   50460.2266\n",
      "1              Barnet  E09000003 1995-01-01  93284.51832\n",
      "2              Bexley  E09000004 1995-01-01  64958.09036\n",
      "3               Brent  E09000005 1995-01-01  71306.56698\n",
      "4             Bromley  E09000006 1995-01-01  81671.47692\n"
     ]
    }
   ],
   "source": [
    "df = pd.melt(df, id_vars=['Borough', 'ID'])\n",
    "df = df.rename({0:'date', 'value':'price'}, axis=1)\n",
    "print(df.head())"
   ]
  },
  {
   "cell_type": "markdown",
   "metadata": {
    "colab_type": "text",
    "id": "7kIsgAo7o3mf"
   },
   "source": [
    "Remember to make sure your column data types are all correct. Average prices, for example, should be floating point numbers... "
   ]
  },
  {
   "cell_type": "code",
<<<<<<< HEAD
   "execution_count": 113,
=======
   "execution_count": 7,
>>>>>>> c6308ce03cc318f41e9de78225af037fd116aefb
   "metadata": {
    "colab": {},
    "colab_type": "code",
    "id": "ZcR4IHbcpOaq"
   },
   "outputs": [
    {
     "data": {
      "text/plain": [
       "Borough            object\n",
       "ID                 object\n",
       "date       datetime64[ns]\n",
       "price             float64\n",
       "dtype: object"
      ]
     },
<<<<<<< HEAD
     "execution_count": 113,
=======
     "execution_count": 7,
>>>>>>> c6308ce03cc318f41e9de78225af037fd116aefb
     "metadata": {},
     "output_type": "execute_result"
    }
   ],
   "source": [
    "\n",
    "df = df.infer_objects()\n",
    "df.dtypes"
   ]
  },
  {
   "cell_type": "markdown",
   "metadata": {
    "colab_type": "text",
    "id": "knLUXHLypOtw"
   },
   "source": [
    "**2.5. Cleaning the data (part 3)**\n",
    "\n",
    "Do we have an equal number of observations in the ID, Average Price, Month, and London Borough columns? Remember that there are only 32 London Boroughs. How many entries do you have in that column? \n",
    "\n",
    "Check out the contents of the London Borough column, and if you find null values, get rid of them however you see fit. "
   ]
  },
  {
   "cell_type": "code",
<<<<<<< HEAD
   "execution_count": 114,
=======
   "execution_count": 8,
>>>>>>> c6308ce03cc318f41e9de78225af037fd116aefb
   "metadata": {
    "colab": {},
    "colab_type": "code",
    "id": "BnvTW5a3p0fC"
   },
   "outputs": [
    {
     "data": {
      "text/html": [
       "<div>\n",
       "<style scoped>\n",
       "    .dataframe tbody tr th:only-of-type {\n",
       "        vertical-align: middle;\n",
       "    }\n",
       "\n",
       "    .dataframe tbody tr th {\n",
       "        vertical-align: top;\n",
       "    }\n",
       "\n",
       "    .dataframe thead th {\n",
       "        text-align: right;\n",
       "    }\n",
       "</style>\n",
       "<table border=\"1\" class=\"dataframe\">\n",
       "  <thead>\n",
       "    <tr style=\"text-align: right;\">\n",
       "      <th></th>\n",
       "      <th>Borough</th>\n",
       "      <th>ID</th>\n",
       "      <th>date</th>\n",
       "      <th>price</th>\n",
       "    </tr>\n",
       "  </thead>\n",
       "  <tbody>\n",
       "    <tr>\n",
       "      <th>0</th>\n",
       "      <td>Barking &amp; Dagenham</td>\n",
       "      <td>E09000002</td>\n",
       "      <td>1995-01-01</td>\n",
       "      <td>50460.22660</td>\n",
       "    </tr>\n",
       "    <tr>\n",
       "      <th>1</th>\n",
       "      <td>Barnet</td>\n",
       "      <td>E09000003</td>\n",
       "      <td>1995-01-01</td>\n",
       "      <td>93284.51832</td>\n",
       "    </tr>\n",
       "    <tr>\n",
       "      <th>2</th>\n",
       "      <td>Bexley</td>\n",
       "      <td>E09000004</td>\n",
       "      <td>1995-01-01</td>\n",
       "      <td>64958.09036</td>\n",
       "    </tr>\n",
       "    <tr>\n",
       "      <th>3</th>\n",
       "      <td>Brent</td>\n",
       "      <td>E09000005</td>\n",
       "      <td>1995-01-01</td>\n",
       "      <td>71306.56698</td>\n",
       "    </tr>\n",
       "    <tr>\n",
       "      <th>4</th>\n",
       "      <td>Bromley</td>\n",
       "      <td>E09000006</td>\n",
       "      <td>1995-01-01</td>\n",
       "      <td>81671.47692</td>\n",
       "    </tr>\n",
       "    <tr>\n",
       "      <th>...</th>\n",
       "      <td>...</td>\n",
       "      <td>...</td>\n",
       "      <td>...</td>\n",
       "      <td>...</td>\n",
       "    </tr>\n",
       "    <tr>\n",
       "      <th>10747</th>\n",
       "      <td>Sutton</td>\n",
       "      <td>E09000029</td>\n",
       "      <td>2022-12-01</td>\n",
       "      <td>450999.68080</td>\n",
       "    </tr>\n",
       "    <tr>\n",
       "      <th>10748</th>\n",
       "      <td>Tower Hamlets</td>\n",
       "      <td>E09000030</td>\n",
       "      <td>2022-12-01</td>\n",
       "      <td>520524.72039</td>\n",
       "    </tr>\n",
       "    <tr>\n",
       "      <th>10749</th>\n",
       "      <td>Waltham Forest</td>\n",
       "      <td>E09000031</td>\n",
       "      <td>2022-12-01</td>\n",
       "      <td>510178.70953</td>\n",
       "    </tr>\n",
       "    <tr>\n",
       "      <th>10750</th>\n",
       "      <td>Wandsworth</td>\n",
       "      <td>E09000032</td>\n",
       "      <td>2022-12-01</td>\n",
       "      <td>657123.47553</td>\n",
       "    </tr>\n",
       "    <tr>\n",
       "      <th>10751</th>\n",
       "      <td>Westminster</td>\n",
       "      <td>E09000033</td>\n",
       "      <td>2022-12-01</td>\n",
       "      <td>910286.63571</td>\n",
       "    </tr>\n",
       "  </tbody>\n",
       "</table>\n",
       "<p>10752 rows × 4 columns</p>\n",
       "</div>"
      ],
      "text/plain": [
       "                  Borough         ID       date         price\n",
       "0      Barking & Dagenham  E09000002 1995-01-01   50460.22660\n",
       "1                  Barnet  E09000003 1995-01-01   93284.51832\n",
       "2                  Bexley  E09000004 1995-01-01   64958.09036\n",
       "3                   Brent  E09000005 1995-01-01   71306.56698\n",
       "4                 Bromley  E09000006 1995-01-01   81671.47692\n",
       "...                   ...        ...        ...           ...\n",
       "10747              Sutton  E09000029 2022-12-01  450999.68080\n",
       "10748       Tower Hamlets  E09000030 2022-12-01  520524.72039\n",
       "10749      Waltham Forest  E09000031 2022-12-01  510178.70953\n",
       "10750          Wandsworth  E09000032 2022-12-01  657123.47553\n",
       "10751         Westminster  E09000033 2022-12-01  910286.63571\n",
       "\n",
       "[10752 rows x 4 columns]"
      ]
     },
<<<<<<< HEAD
     "execution_count": 114,
=======
     "execution_count": 8,
>>>>>>> c6308ce03cc318f41e9de78225af037fd116aefb
     "metadata": {},
     "output_type": "execute_result"
    }
   ],
   "source": [
    "df.drop(df[df['Borough'].isnull()].index.tolist(), axis=0)\n",
    "\n",
    "df"
   ]
  },
  {
   "cell_type": "markdown",
   "metadata": {
    "colab_type": "text",
    "id": "PGEx6mJsp6dG"
   },
   "source": [
    "**2.6. Visualizing the data**\n",
    "\n",
    "To visualize the data, why not subset on a particular London Borough? Maybe do a line plot of Month against Average Price?"
   ]
  },
  {
   "cell_type": "code",
<<<<<<< HEAD
   "execution_count": 115,
=======
   "execution_count": 9,
>>>>>>> c6308ce03cc318f41e9de78225af037fd116aefb
   "metadata": {
    "colab": {},
    "colab_type": "code",
    "id": "nAg5pT9cqHAR"
   },
   "outputs": [
    {
     "data": {
      "image/png": "iVBORw0KGgoAAAANSUhEUgAAAjQAAAGyCAYAAADzil5bAAAAOXRFWHRTb2Z0d2FyZQBNYXRwbG90bGliIHZlcnNpb24zLjcuMCwgaHR0cHM6Ly9tYXRwbG90bGliLm9yZy88F64QAAAACXBIWXMAAA9hAAAPYQGoP6dpAABeAUlEQVR4nO3deXxTVd4G8Cfd0rRN0jVJ0x1oC6XsYAGRFsGCg4IzjjqiCDPI4EjRio4O4rzAiFTE0XndUMd5wXFBxwEE1wEHKGIBpVAoW8vSvU33Jl2TtjnvH4VIaIG2lKZJn+/nkw/k3pPkd7jQPJx77rkSIYQAERERkR1zsnUBRERERNeLgYaIiIjsHgMNERER2T0GGiIiIrJ7DDRERERk9xhoiIiIyO4x0BAREZHdY6AhIiIiu8dAQ0RERHbPxdYF3ChmsxnFxcWQy+WQSCS2LoeIiIg6QQiB2tpaaLVaODl1YdxFdMGaNWvE2LFjhZeXlwgICBCzZ88Wp0+ftmpjNpvFihUrRGBgoHB3dxfx8fHi+PHjlv2VlZUiKSlJREVFCZlMJkJCQsSSJUtETU1Nh5/Z1NQkRowYIQCII0eOdLrWgoICAYAPPvjggw8++LDDR0FBQVciiujSCE1qaioWL16McePGoaWlBcuXL0diYiJOnjwJT09PAMBLL72EV155BRs3bkRUVBRWr16N2267DVlZWZDL5SguLkZxcTFefvllxMTEIC8vD4888giKi4vx73//u91nPv3009BqtTh69GhXSoVcLgcAFBQUQKFQdOm1REREZBsGgwEhISGW7/HOkgjR/ZtTlpeXQ6VSITU1FZMnT4YQAlqtFsnJyXjmmWcAAEajEWq1GmvXrsWiRYs6fJ/PPvsMDz74IOrr6+Hi8nPG+uabb7B06VJs3rwZQ4cOxZEjRzBy5MhO1WYwGKBUKqHX6xloiIiI7ER3v7+va1KwXq8HAPj6+gIAcnJyoNPpkJiYaGkjlUoRHx+PtLS0q76PQqGwCjOlpaVYuHAhPvjgA3h4eFyzFqPRCIPBYPUgIiKi/qHbgUYIgaVLl2LSpEmIjY0FAOh0OgCAWq22aqtWqy37LldZWYnnn3/eavRGCIH58+fjkUcewdixYztVT0pKCpRKpeUREhLSnW4RERGRHep2oElKSsKxY8ewadOmdvsuv6pICNHhlUYGgwEzZ85ETEwMVqxYYdn++uuvw2AwYNmyZZ2uZ9myZdDr9ZZHQUFBF3pDRERE9qxbl20vWbIE27dvx969exEcHGzZrtFoALSN1AQGBlq2l5WVtRu1qa2txYwZM+Dl5YWtW7fC1dXVsm/Xrl04cOAApFKp1WvGjh2LBx54AO+//367mqRSabv2ndHa2orm5uYuv66/c3V1hbOzs63LICIiAtDFQCOEwJIlS7B161bs2bMHERERVvsjIiKg0Wiwc+dOjBo1CgBgMpmQmpqKtWvXWtoZDAZMnz4dUqkU27dvh7u7u9X7vPbaa1i9erXleXFxMaZPn45PP/0UcXFxXe7klfqi0+lQU1PTI+/XH3l7e0Oj0XCdHyIisrkuBZrFixfj448/xrZt2yCXyy3zYpRKJWQyGSQSCZKTk7FmzRpERkYiMjISa9asgYeHB+bMmQOgbWQmMTERDQ0N+PDDD60m8AYEBMDZ2RmhoaFWn+vl5QUAGDhwoNWI0PW4GGZUKhU8PDz4pdwFQgg0NDSgrKwMAKxG44iIiGyhS4Fm/fr1AICEhASr7Rs2bMD8+fMBtK0b09jYiEcffRTV1dWIi4vDjh07LNeTp6en4+DBgwCAQYMGWb1PTk4OwsPDu9GNrmltbbWEGT8/vxv+eY5IJpMBaDudqFKpePqJiIhs6rrWoenLrnYde1NTkyU8Xfxipq5rbGxEbm4uIiIi2p02JCIi6g6brENj73ia6frwz4+IiPqKfh1oiIiIyDEw0DiAhIQEJCcn27oMIiIim2Gg6Wf27NkDiUTCy9WJiMihMNAQERFRl+3OKoOpxWzrMiwYaOxMfX09HnroIXh5eSEwMBB//etfrfZ/+OGHGDt2LORyOTQaDebMmWNZLyY3NxdTpkwBAPj4+EAikVgutxdC4KWXXsKAAQMgk8kwYsQI/Pvf/+7VvhERkX3YcrgQv93wExb+81CfCTXduvWBIxJCoLG51SafLXN17vQVQ3/84x+xe/dubN26FRqNBs8++yzS09MxcuRIAG0rMz///POIjo5GWVkZnnjiCcyfPx9ff/01QkJCsHnzZtx9993IysqCQqGwXLb+3HPPYcuWLVi/fj0iIyOxd+9ePPjggwgICEB8fPyN6joREfVxDaYWZOTXIKOwBkcLanC0QA+doQkAMDDAC67OfeOKVwaaCxqbWxHzP/+xyWef/Mt0eLhd+1DU1dXhH//4B/75z3/itttuAwC8//77Vqsn/+53v7P8fsCAAXjttddw0003oa6uDl5eXvD19QUAqFQqeHt7A2gb9XnllVewa9cuTJgwwfLaffv24Z133mGgISLqp0wtZtz6cqolwFzkJAHmjg/DczOH9JklPBho7Mi5c+dgMpksoQMAfH19ER0dbXl+5MgRrFy5EhkZGaiqqoLZ3DYUmJ+fj5iYmA7f9+TJk2hqarKEpItMJpPlnlxERNR/tJoFfsqtwmeHCi1hJiZQgV+OCsKIEG/EBik69R/x3tS3qrEhmaszTv5lus0+uzOutahzfX09EhMTkZiYiA8//BABAQHIz8/H9OnTYTKZrvi6i6Hnq6++QlBQkNW+7tzBnIiI7EdLqxm5lQ3ILKrBsUI9Mgv1OFFssJqGEerrgQ8fjoOvp5sNK706BpoLJBJJn0ublxs0aBBcXV1x4MAByw08q6urkZ2djfj4eJw+fRoVFRV48cUXERISAgA4dOiQ1Xu4ubX9ZWxt/fkvakxMDKRSKfLz83l6iYjIwQghUN3QjMLqBuRXNaCgqvHCrw0oqG5AUXUjWszt/8OscHfB9KEazBqpxYQBfnBx7tvXEfXtb3Cy4uXlhQULFuCPf/wj/Pz8oFarsXz5cjg5tf0lCw0NhZubG15//XU88sgjOH78OJ5//nmr9wgLC4NEIsGXX36JX/ziF5DJZJDL5XjqqafwxBNPwGw2Y9KkSTAYDEhLS4OXlxfmzZtni+4SEdFVNDW3osxgRHldE8prjSirNaL80kdd268VdUY0t159hN/d1QmxWiVig5QYHtz2iPD3grNT35gf0xkMNHZm3bp1qKurw6xZsyCXy/Hkk09Cr9cDAAICArBx40Y8++yzeO211zB69Gi8/PLLmDVrluX1QUFBWLVqFf70pz/ht7/9LR566CFs3LgRzz//PFQqFVJSUnD+/Hl4e3tj9OjRePbZZ23VVSIiukRBVQMO51fjcF41DufX4FSJocORlStRyaUI9fVAyIVHqK8HQnxkCPXzgFruDic7Ci8d6dd32+Zdoq8P/xyJiHrHBwfy8OfPj7fb7u7qBJXcHQFyKQK8pG2/XnxceK5SSOHnKYWbS98+ZXRRd++2zREaIiKiPsxsFsjIr7Ha9vr9ozAq1BtB3rI+c9m0rTHQEBER9SGNplYcL9bjx5wqHMqtwqG8atQ2tVj23zc2BHeO0Nqwwr6JgYaIiMgGymqbcKa0DufK63C+vN7ya1FNY7u2XlIX/GKYBveODcGYMB8bVNv3MdAQERH1sm8yS/CHjw5fcb+/lxTjwn0wLtwX48J9MSRQ3ucvm7a1fh1oHHQ+dK/hnx8RUfe4u7VfUPWmcF8sih+AUaE+fXoBu76qX8Y9V1dXAEBDQ4ONK7FvF//8Lv55EhFR50yJVuGLpEkYEay0bPsxtwp//PcxtHbhUmz6Wb8coXF2doa3tzfKysoAAB4eHpwl3gVCCDQ0NKCsrAze3t5wdu7crRuIiPorIQTKa43ILq3DmbJaZJfW4WxZLXIrrf9jLXN1houdrwdjK/0y0ACARqMBAEuooa7z9va2/DkSEVFbcCmrNSK7tBZnLoSXtl/roG9s7vA1ThJgUmQA7hkTjNti1HDv5P39yFq/DTQSiQSBgYFQqVRobu74LxldmaurK0dmiKjfujS4XBxtyS6tw5nSWhguucT6Uk4SINzPE4NUXohSyxGp9kKkSo4BAZ4MMT2g3waai5ydnfnFTEREnVJU04htGUX4/EgRskvrOmxzMbhcDCyR6rYAE+HP4HIj9ftAQ0RE1Bn/PVWKhf88hItzdp2dJAjz80DUhdASqZYjUuWFAQGekLowuPQ2BhoiIqJOqG5otoSZv8weitkjg6CU8SrPvqJfXrZNRETUVbNHaqGSSwEAQd4yhpk+hoGGiIioE1ydnRDi6wEAeHP3WRtXQ5fjKSciIqKrKKppxK5Tpfjv6TKk51UDaLs1AfUtDDRERESXMba04tvjOnx0MB8/5lRZ7ZswwA+v3DfSNoXRFTHQEBFRv2Y2C+RW1uNYoR4ZBTU4WliDE8UGmFrMANouwx4T5oNbB6sxbYgKg1ReXF2+D2KgISKifqXM0ISMghocK9TjaGENjhbUdLgYXqDSHfeNC8F940IQqJTZoFLqCgYaIiJyaI2mVhzMqcTe7AqkZpfhXHl9uzZSFycM1SowIsQbI0O8MSLYG2F+vM+fPWGgISIih9DcakZORb3ldgRnSmuRVVqLvMoGqztYO0mAKLUcI4K9MTxEiRHB3ojWyOHqzAt/7RkDDRER2S0hBDKL9Nj0Yz62ZxSj3tTaYTut0h2TowIQHxWAiYP8uYaMA2KgISIiu/XXHdl445I1YbykLhdu/th2/6SLD7VCytNHDo6BhoiI7Fa9yXoy762DVYjWtIWYaLUcwT4yODkxyPQHXTphmJKSgnHjxkEul0OlUuGuu+5CVlaWVRshBFauXAmtVguZTIaEhAScOHHCsr+qqgpLlixBdHQ0PDw8EBoaisceewx6vd7qfaqrqzF37lwolUoolUrMnTsXNTU13e8pERE5nD/dPhhTB6ssz7cfLca6/2Rh4T8PYfK63Zj95g8QQlzlHchRdCnQpKamYvHixThw4AB27tyJlpYWJCYmor7+5xnjL730El555RW88cYb+Omnn6DRaHDbbbehtrYWAFBcXIzi4mK8/PLLyMzMxMaNG/Htt99iwYIFVp81Z84cZGRk4Ntvv8W3336LjIwMzJ07twe6TEREjkLq4oz35o3F3j9OwVOJUXC+bDSmwdRiNSGYHJdEXEd0LS8vh0qlQmpqKiZPngwhBLRaLZKTk/HMM88AAIxGI9RqNdauXYtFixZ1+D6fffYZHnzwQdTX18PFxQWnTp1CTEwMDhw4gLi4OADAgQMHMGHCBJw+fRrR0dHXrM1gMECpVEKv10OhUHS3i0RE1MflVtTj2a2ZSDtXadnmJXXBgkkRWDh5ALyknF1hT7r7/X1dR/niaSJfX18AQE5ODnQ6HRITEy1tpFIp4uPjkZaWdsVAc7FoF5e2cvbv3w+lUmkJMwAwfvx4KJVKpKWldRhojEYjjEaj5bnBYLierhERkR04V16Hma99j6bmtlV9pw1R4c4RWkwdomaQ6We6fdG9EAJLly7FpEmTEBsbCwDQ6XQAALVabdVWrVZb9l2usrISzz//vFXY0el0UKlU7dqqVKorvk9KSoplvo1SqURISEi3+kVERPZDCAEJfj7NdKqkFqWGJp5m6oe6HWiSkpJw7NgxbNq0qd2+yy+NE0J0eLmcwWDAzJkzERMTgxUrVlz1Pa72PgCwbNky6PV6y6OgoKAr3SEiIjsjhICX1BUv/DIWGoU7gLY7Y6/5+jTi1+1GYXWDjSuk3tSt8bglS5Zg+/bt2Lt3L4KDgy3bNRoNgLYRlsDAQMv2srKydqM2tbW1mDFjBry8vLB161a4urpavU9paWm7zy0vL2/3PhdJpVJIpbydOxFRf9DSasYv30pDZpG+w/1CAGZzLxdFNtWlERohBJKSkrBlyxbs2rULERERVvsjIiKg0Wiwc+dOyzaTyYTU1FRMnDjRss1gMCAxMRFubm7Yvn073N3drd5nwoQJ0Ov1+PHHHy3bDh48CL1eb/U+RETUPzW3ig7DzPyJ4fh88c1I+9OtCPXzsEFlZCtdGqFZvHgxPv74Y2zbtg1yudwyn0WpVEImk0EikSA5ORlr1qxBZGQkIiMjsWbNGnh4eGDOnDkA2kZmEhMT0dDQgA8//BAGg8EygTcgIADOzs4YMmQIZsyYgYULF+Kdd94BAPz+97/HHXfc0akrnIiIyHEV1TQi/qXdHe67c0QgRoZ4925B1Cd06bLtK81f2bBhA+bPnw+gbRRn1apVeOedd1BdXY24uDi8+eablonDe/bswZQpUzp8n5ycHISHhwNoW4Dvsccew/bt2wEAs2bNwhtvvAFvb+9O1crLtomIHFNORT2mvLynw31DAhXY/IcJ8HDjFU72qrvf39e1Dk1fxkBDROS4qupN2JNVhpe+zYLO0GTZ7uvphl1PxsPbw82G1dH1sMk6NERERL2t0dSKv39/Hv/4Pgem1raZv/5eUjwQF4oH4kIZZvopBhoiIrIbTc2tmP3mPmSX1lm2PTY1EounDITUxdmGlZGtMdAQEZHdEAKoqm+22vbaf8/g44P5uC1GhRmxgZg40A+uzt1eZo3sFOfQEBGRXaltasZPuVU4lFuNQ7nVyCisganl50Vnwvw88J/kyXB35YiNPeIcGiIi6hfk7q64dbAatw5uW2jV2NKKH3Oq8NmhQmw/Woy8ygYcya/BhIF+Nq6UehPH5IiIyK5JXZxxS2QAUn41DP5ebROCH/q/g1j6rwxkFNTYtjjqNTzlREREDqPU0ITnPj+OnSd/vn1OkLcMQ7UKDNUqMVSrQGyQEmqF9Iprq5FtcR2ayzDQEBH1X0fyq/HB/jx8eazEcmn3pQZr5Ph88c2cZ9MHMdBchoGGiIhqm5pxotjQ9ijS40SxAVmltQAADzdn3B4biEEqLwxSeSFS5YUQXw84O3HkxpYYaC7DQENERB154tMMbD1SdMX9G+aPw5TBql6siC7V3e9vTgomIqJ+Ze3dw/Ha/aMwbYi6w/2ll9xKgewHL9smIqJ+wdDUjBe/OY1/HyrscF5NpMoLydOi8IthGhtUR9eLgYaIiBxSRZ0RmUV6HC/U41iRHodyq1Dd0LbKsFzqgiFaBWICFYi5+GugAk6cP2O3GGiIiMihNLea8Zt3DyA9r7rdvjA/D6T8chgmDPTjZdsOhoGGiIjsmhAC5bVGnNbV4rTOgB9zqi1hRilzxZToAAwL9sawICVGhnjDzYXTRx0RAw0REdm1Be8fwq7TZe22OztJ8N3SeATIpTaoinobYyoREdm1qnrTFff961AB9I3NV9xPjoPr0BARkV0ztZhxrLAGp3S1OFGkR2aRHtmltWhubft683Bzxk0RvoiL8MNNEb4YFqTkaac+jAvrXYaBhoio/2pqbsVXx0rwzt5zyC6ts9rnJXXBuw+NwcSB/jaqjq6mu9/fnENDREQOx93VGXePCcYvRwXhZIkBP+ZU4WBOJf5zohR1xhb8O72QgcbBcMyNiIgclpOTBLFBSvxuUgTemTsW6x8YDQD4/EgR9p+rtHF11JMYaIiIqN+YHBUAADALYMX24zauhnoSTzkREZHDM5sFNqTl4m87sy3bjC1mCCG4wJ6DYKAhIiKH1dxqxrfHdfj79+dxrFAPoG214AfiQnHPmBCGGQfCQENERA5pT1YZnt2SiWJ9292zPd2c8ezMIbh/XCjv2eSAGGiIiMju6RuacVpnuHD7g1pk6Qw4nF8DAPD3csOD48PwQFwYVw12YAw0RERkN0wtZpwrr0OWrhandAZk6WpxuqQWOkNTh+0fHB+K52bGwN3VuZcrpd7GQENERH2evqEZa/9zGp8dKrCsAHy5IG8ZBmvkiL7wGB7sjQh/z16ulGyFgYaIiPq0yjojfvHa9yg1GC3b3FyccNdILYYHe2OwRo4ojRwKd1cbVkm2xkBDRER9WoOpFYbGFqttphYzthwuQlV9M8aF+zLMEO/lREREfV95rRHpedU4fuHmk5lFestdtp0kwNgwX4wf4Iu4AX4YHeoDmRvnzNgr3pzyMgw0RESOSwiBs2V1ePW7bHydqbPa5+oswaLJA/HU9GgbVUfXg4HmMgw0RET9Q25FPfafr8TB85X47+ky1Da1QCIBvn18MqI1cluXR13EQHMZBhoiov6nqbkVg//8reX59qSbMTzY23YFUZd19/ubk4KJiMhuVdQZcaywBhn5Ncgo1CM9t8pqf3FNIwNNP8FAQ0REfZYQAlX1JuRXNaCguhEFVQ3Ir2xAflUD8irrLbc1uJRW6Y7bhwXijuGBGBXqY4OqyRYYaIiIqM9oNQscLaxBalY59p4pR7auFvWm1qu+ZpDKCyOCvTEyRIlRoT6ICVTwXk39UJcCTUpKCrZs2YLTp09DJpNh4sSJWLt2LaKjf55JLoTAqlWr8O6776K6uhpxcXF48803MXToUEubd999Fx9//DEOHz6M2tpaVFdXw9vbu93nffXVV/jLX/6CY8eOwdPTE5MnT8aWLVu631siIuoT6owtyKusR15lA3Iq6pFXWY/cygZk6Wqhb2y2aiuRABqFO0J8PBDi64FQXw+E+MoQ4uuBaC6oRxd0KdCkpqZi8eLFGDduHFpaWrB8+XIkJibi5MmT8PRsW176pZdewiuvvIKNGzciKioKq1evxm233YasrCzI5W2zzRsaGjBjxgzMmDEDy5Yt6/CzNm/ejIULF2LNmjW49dZbIYRAZmbmdXaXiIh628VLrPedrcAPZytwtFCP8lrjFdvL3V0wOTIA8VEBGB3mg2AfGe/FRNd0XVc5lZeXQ6VSITU1FZMnT4YQAlqtFsnJyXjmmWcAAEajEWq1GmvXrsWiRYusXr9nzx5MmTKl3QhNS0sLwsPDsWrVKixYsKBbtfEqJyKi3lNnbEFxTSOKqhtReOHXoppGFNc0Iq+yHhV1pnav8fV0Q5ifByL8PBHm54lwfw9E+HsiJlABF2cnG/SC+gKbXOWk1+sBAL6+vgCAnJwc6HQ6JCYmWtpIpVLEx8cjLS2tXaC5ksOHD6OoqAhOTk4YNWoUdDodRo4ciZdfftnq1NWljEYjjMafE7/BYOhut4iI6BpaWs3Yk1WOT34qwE+5Ve1OE11O6uKEmyJ8cfMgf9wU4YuBAV5QyniqiHpOtwONEAJLly7FpEmTEBsbCwDQ6dpWa1Sr1VZt1Wo18vLyOv3e58+fBwCsXLkSr7zyCsLDw/HXv/4V8fHxyM7OtgSoS6WkpGDVqlXd7Q4REV2DvqEZP5yrwPdnyrHrdJnVzSIBQOHugiAfDwR5yxDsI0OQtwxBPjJoL9wFm6eN6EbqdqBJSkrCsWPHsG/fvnb7JBLr2eVCiHbbrsZsNgMAli9fjrvvvhsAsGHDBgQHB+Ozzz7rcKRn2bJlWLp0qeW5wWBASEhIpz+TiIisNbeacbSgBnuzy7H3TAWOFdbAfMkkBR8PV9w9OhizRwYh3N8Dck7OJRvqVqBZsmQJtm/fjr179yI4ONiyXaPRAGgbqQkMDLRsLysrazdqczUXXxsTE2PZJpVKMWDAAOTn53f4GqlUCqlU2qV+EBFRe/qGZrz6XTY2pxei1mh9l+tBKi/cEumPyZEBmDjID1IXjrpQ39ClQCOEwJIlS7B161bs2bMHERERVvsjIiKg0Wiwc+dOjBo1CgBgMpmQmpqKtWvXdvpzxowZA6lUiqysLEyaNAkA0NzcjNzcXISFhXWlZCIi6oAQApX1JhRcsmBdYXUDCqoakVmkt8yJ8fZwxaRBbQFmUqQ/tN4yG1dO1LEuBZrFixfj448/xrZt2yCXyy1zZpRKJWQyGSQSCZKTk7FmzRpERkYiMjISa9asgYeHB+bMmWN5H51OB51Oh7NnzwIAMjMzIZfLERoaCl9fXygUCjzyyCNYsWIFQkJCEBYWhnXr1gEA7rnnnp7qOxFRv2A2C5wrr8Ph/GoczqvB0cIa5Fc1oOEqC9ZFqrzw5zticPMgfzhzkTqyA10KNOvXrwcAJCQkWG3fsGED5s+fDwB4+umn0djYiEcffdSysN6OHTssa9AAwNtvv201gXfy5Mnt3mfdunVwcXHB3Llz0djYiLi4OOzatQs+PlzGmojock3NrSi65HLpS389rTPA0NTS7jUSCaCWu7ctUufjgWBfD4T4yBDm54lRod5w5aXTZEd4t20iIjvU3GrGt8d1+PSnApzWGTpc5+VS7q5OGB7sjdGhPhgV6o1IlReCfGScA0N9Du+2TUTUTxw4X4nHNh1B2WWr7Xq6OSPoksulg7w9EOQjwwB/T0Rr5BxxIYfGQENEZAeEEMgqrcWerHK8ujMbxhYz/L2kmHNTCBKHahDsI4NS5tqlJTKIHAkDDRFRH/ffU6V47vPjKNE3WbYF+8jwn+TJ8JTyxzgRwEBDRNQnmVrMSM+rxp7sMryT2rZ6ukQCJEQFICFahTuGBzLMEF2C/xqIiPqYDw7k4c+fH7faNsDfE18smcQQQ3QFnCFGRNTHHDxf2W7bqFAf/Pd0GYpqGm1QEVHfx8u2iYj6mAZTCz46kI/U7HLsP1+JVrP1j2mt0h1rfz0ct0QG2KhCohunu9/fHKEhIupjPNxcsHDyAHz4cBz2PJWA+RPD4er889VLxfom/JhTZcMKifoenowlIupFQgg0Nreiss6E6gYTKutNqK43oerCo7rBZNmnMzShoKr9KSYfD1c8fMsAG1RP1Hcx0BAR9QAhBAyNLdAZmqAzNKFU32T1+9LaJlTWtYUWY4u5S++tUbhjcKAcQwIVGKyRIyFaBaXM9Qb1hMg+MdAQEXVBc6sZ58rrcLqkFqdKDDhZYkBBVQNKDUY0Nl/5Zo+Xc3N2gq+nW4cPH083+F14RKrl8PV0u4E9InIMDDRERFcghEBBVSPS86uQnleNI/k1OFNaB1PrlUdYlDJXaBTuUCvdoVFIL/m9O/y8pPC7EFg83Zy5qi9RD2KgISK6QAiBc+X12H+uAmnnKvFTbjUq6ozt2nlJXTBY03YKaEigAhH+nghUukOtcIfMjTd7JLIFBhoi6tf0jc34/kw5dp8ux76z5Sg1WAcYV2cJYoOUGBPqg9FhPojVKhHsI4OTE0dXiPoSBhoi6lcujsL891Qp/nu6DOl51VbrvLi5OGFsmA8mDvTD+AF+iA1Swt2Voy5EfR0DDRE5vOZWM37KqcJ3p8rw39OlyKtssNo/SOWFWwerEB8VgDFhPgwwRHaIgYaIHE5FnRGZhXocLazBsUI9fsqpQq2xxbLfzdkJ4wf6YepgFW4drEKIr4cNqyWinsBAQ0R2TQiB/KoG7D9XibRzlUjPq+7wfkf+Xm6YEq3C1CFqTIr0hxdv8kjkUPgvmojskrGlFf+3LxcfHshrF2AkEmBggBeGBykxPFiJUaE+GBak5EReIgfGQENEdsFsFsitrMfRwhpk5NdgV1aZ5bYArs4SjAzxxoSB/hgf4YthwUrI3bmSLlF/wkBDRH3aiWI93tp9Dt+fKYehqcVqX4BciqenR2Pm8EB4uPHHGVF/xp8ARNQnFVY3YM3Xp/B1ps6yTerihNggJUaGeGNEiDduHaziXBgiAsBAQ0R9SIOpBWlnK7Erqwyb0wthbDFDIgHuGK7FgkkRGKpVwNXZydZlElEfxEBDRDbV1NyK/5zQYcvhIuw/V2l1n6S4CF+snDUUQwIVNqyQiOwBAw0R9ZpGUyvOlde1PcrqcLa8DvvOVFjNjQn2kWFKtArTYtSYHOnPGzgSUacw0BDRDWU2Cyz/PBN7sys6XB8GAIK8Zbh7TDBmjQjEwAAvhhgi6jIGGiK6ocrrjNj0Y4HluY+HKwapvDAwoO0RG6REXIQv14ghouvCQENEN1SAlxRKmSv0jc1476GxmBajtnVJROSAeLkAEd1QTk4STIr0BwAcLayxbTFE5LAYaIjohrttSNuozEcH81Hb1GzjaojIETHQENENd/E0U1W9Cd8c112jNRFR13EODRHdUP9OL8SL35yyPNc3cISGiHoeAw0R9TizWeBATiU+OpiPr46VAGi7NHvhLRF4cHyYjasjIkfEQENEPSrtbAXmvHfQ8lwiAZKnRuHRKQN52wIiumEYaIioR317wnqOzLwJ4Xh8WqSNqiGi/oL/XSKiHtPU3ApDo/UcmVMlBhtVQ0T9CUdoiOi61TSYsDurDO+n5SGjoAZA25yZSYP88cRtUbYtjoj6hS6N0KSkpGDcuHGQy+VQqVS46667kJWVZdVGCIGVK1dCq9VCJpMhISEBJ06csGrz7rvvIiEhAQqFAhKJBDU1NVb7c3NzsWDBAkREREAmk2HgwIFYsWIFTCZT93pJRDdE2tkKPPDeAYxZ/R2e+PQoMgpqIJe6YMNvx2HfM1Ow9tfDoVG627pMIuoHuhRoUlNTsXjxYhw4cAA7d+5ES0sLEhMTUV9fb2nz0ksv4ZVXXsEbb7yBn376CRqNBrfddhtqa2stbRoaGjBjxgw8++yzHX7O6dOnYTab8c477+DEiRN49dVX8fbbb1+xPRH1LlOLGYs+OIQ57x3ED2cr0WoWiFbLkTRlEL58bBKmRKt4g0ki6lUSIYTo7ovLy8uhUqmQmpqKyZMnQwgBrVaL5ORkPPPMMwAAo9EItVqNtWvXYtGiRVav37NnD6ZMmYLq6mp4e3tf9bPWrVuH9evX4/z5852qzWAwQKlUQq/XQ6FQdKt/RNSx7NJaJL66FwDwq1FBeHxaJML8PG1cFRE5gu5+f1/XpGC9Xg8A8PX1BQDk5ORAp9MhMTHR0kYqlSI+Ph5paWnX81HQ6/WWz+mI0WiEwWCwehDRjRGp8sLYMB8AQGW9CcYWs40rIqL+rtuBRgiBpUuXYtKkSYiNjQUA6HRtl2uq1dZ301Wr1ZZ93XHu3Dm8/vrreOSRR67YJiUlBUql0vIICQnp9ucR0dVJJBI8O3MInCRAanY5El/di1+vT0NBVYOtSyOifqrbgSYpKQnHjh3Dpk2b2u27/Ny5EKLb59OLi4sxY8YM3HPPPXj44Yev2G7ZsmXQ6/WWR0FBQbc+j4g6Z3SoDz75/QTL80N51dh3tsKGFRFRf9aty7aXLFmC7du3Y+/evQgODrZs12g0ANpGagIDAy3by8rK2o3adEZxcTGmTJmCCRMm4N13371qW6lUCqlU2uXPIKLu85K6wEkCmAXw6zHB+NXoIFuXRET9VJdGaIQQSEpKwpYtW7Br1y5ERERY7Y+IiIBGo8HOnTst20wmE1JTUzFx4sQuFVZUVISEhASMHj0aGzZsgJMT1wAk6gtqm5rxY04VNv6QgwfeOwCzAH4xTIOX7xkBqYuzrcsjon6qSyM0ixcvxscff4xt27ZBLpdb5sUolUrIZDJIJBIkJydjzZo1iIyMRGRkJNasWQMPDw/MmTPH8j46nQ46nQ5nz54FAGRmZkIulyM0NBS+vr4oLi5GQkICQkND8fLLL6O8vNzy2oujQETUexpMLXjhq1P4/kwF8i+bJ+MkAR6fysXziMi2uhRo1q9fDwBISEiw2r5hwwbMnz8fAPD000+jsbERjz76KKqrqxEXF4cdO3ZALpdb2r/99ttYtWqV5fnkyZOt3mfHjh04e/Yszp49a3VKC2gbJSKi3vX9mQp8dDDf8lyrdEeMVoGYQAUmRQYgWiO/yquJiG6861qHpi/jOjRE16+63oRFH6bjx5wqy7atj07EqFAfG1ZFRI7MJuvQEJFjO5hTaRVmAODTnwpw8HwlR0uJqE/hCA0RXZHZLPDpoQK89/15FNc0obG51bIv1NcDv705HHPHh8HFmf83IqKe0d3vbwYaIuqUpuZW/JRbha+OleDLYyWoM7YAAIYFKbHxt+Pg58VlE4jo+vGUExHdUO6uzrglMgAv3j0cny+eiGh120TgzCI9/nuqzMbVEVF/162F9Yiof9qTVYZnNh9DqcFo2TZI5YXbh3E5BSKyLQYaIuq0zw4VWoWZpCmD8PAtEZC7u9qwKiIinnIioi54duYQqBU/z5XZ8EMO/m9fjg0rIiJqw0BDRJ0W5C3D90/fipV3xsDNxQn1pla8tussmlvNti6NiPo5Bhoi6hI3FyckRKvg7+kGABgSqIArL9smIhvjTyEi6rI3dp9Fsb4JALDu18NtXA0REQMNEXVDUXWj5fdz/n4AK7YdR9Mli+4REfU2Bhoi6rKXfj0c8yaEwc/TDYamFry/Pw+ZRXpbl0VE/RgDDRF1WYivB1bNjsXXj99i2fb4piMoqGqwYVVE1J8x0BBRt5XX/rwmTbG+CZ8fKbJhNUTUn3FhPSLqEiEESvRNOFNWh3n/96Nl+/yJ4fjtpAgbVkZE/RkDDRFdUaOpFad0Bhwv0uN4kR5ZulqcLatDvcl6AnBCdABWzhpqoyqJiBhoiOgCs1ngbHkd0vOqkZ5XjcxCPc6W16HVLNq1dXGSINzfE5EqL0SqvPDg+DAbVExE9DMGGqJ+zGwW+CqzBP9OL8Th/GrUNrW0a+PvJcWwIAVig5QYEqhAlNoLYX6eXEyPiPoUBhqifqi51Yxvjuvw9p5zOFlisGyXuTpjZIg3xoT5YGSIN4YFK6GSSyGRSGxYLRHRtTHQEPUjphYzNqbl4B/7cix3zfaSuuB3N4fjthgNhgTK4cKRFyKyQww0RA5MCIGimkacKqnFyWIDvjxWjDNldQDaTiU9EBeKeRPD4XvhvkxERPaKgYbIQRhbWnGmtA6nSgw4WWLAyWIDTpUYYLhsXoyfpxuemTEYd40KgpsLR2OIyDEw0BDZISEEcirqceB8FQ7lVeFksQFny+rQcoUrkiLVcgwJlCNWq8SvRgfB24MjMkTkWBhoiOxIqaEJL35zGluvsCKvwt0FMVoFYgKViNEqMCRQjkEqL0hdnHu5UiKi3sVAQ2RHvskssQozN0X4Ii7CF8ODvRGjVUCrdOcVSUTULzHQENmRu8cEY33qOcsVSv9aNMHGFRER9Q2cEUhkR+TurvjrPSMtzzf+kNPhSr5ERP2NRAjhkD8NDQYDlEol9Ho9FAqFrcsh6jGtZoE//vsothxuO/UUpfbChAF+UCncoVG4Q61wh1ohhVrpDrnUhaegiMiudPf7m6eciOyMs5MEf71nBIYHKfHqd2eQXVqH7NK6DtvKXJ2hUbpDJZdC6y3DUK0Co0K9MVSrhLsrJwoTkePgCA2RHatpMOGrzBIU1zRCpzeirLYJOn0TSg1N7dafuZSLkwRDAhUYFqzEAH9PRFx4hPh68B5NRGRT3f3+ZqAhclANphaUGYwoNTRBZ2hCfmUDjhbqkVFQg4o6Y4evcXaSIMRHhnB/T4wM8caMWA2i1XKetiKiXsNAcxkGGqKOXbwdQkZBDU6X1CKnot7yaGxubdc+wt8TCdEBGKJRIEojR6TKC55Snq0mohuDc2iIqFMkEgmCfTwQ7OOBO4b/vF0IgbJaI86X1+NceR32ZJVj75lyS9i5VIivDNFqOcL8PBHkLYPWW4YgbxmCfGTw8XDliA4R9TqO0BDRFdUZW7D7dBmO5Ncgu7QWWaW1KK/t+HTVRTJXZ2i93aH1liHE1wNDAhWI1SowJFDBichEdE085XQZBhqiG6Oq3oTs0lpkl9aioKoBxTVNKKppRFFN41XDjrOTBJEqLwzVKjEsSIHYICWGBCp4+oqIrDDQXIaBhqj3GVtaUVLThOILASe3sh7Hiww4XqRHZb2pXXuJBFDKXJEQFYAlUyMxMMDLBlUTUV/COTREZHNSF2eE+3si3N/TarsQAqUGIzKL9DhepMeJYj0yi/QoNRhR09CMzzOKIZFI8Op9I21TOBHZPY7QEJHNLP7oML7KLLE8jwlUYEasBo8mDIQL18Mh6pe6+/3dpZ8YKSkpGDduHORyOVQqFe666y5kZWVZtRFCYOXKldBqtZDJZEhISMCJEyes2hiNRixZsgT+/v7w9PTErFmzUFhYaNUmOzsbs2fPhr+/PxQKBW6++Wbs3r27K+USUR/33B1DMG9CGLRKdwDAyRIDXtmZjTnvHcTnR4qQnleFUkMTzLxfFRFdQ5dGaGbMmIHf/OY3GDduHFpaWrB8+XJkZmbi5MmT8PRsG2Jeu3YtXnjhBWzcuBFRUVFYvXo19u7di6ysLMjlcgDAH/7wB3zxxRfYuHEj/Pz88OSTT6Kqqgrp6elwdm67CiIyMhJRUVFISUmBTCbD3/72N2zcuBHnzp2DRqO5Zq0coSGyL+W1RryyMxubfsxvt8/N2QlBPjK4OEmQEN0230bh7mqDKonoRrPJpODy8nKoVCqkpqZi8uTJEEJAq9UiOTkZzzzzDIC20Ri1Wo21a9di0aJF0Ov1CAgIwAcffID77rsPAFBcXIyQkBB8/fXXmD59OioqKhAQEIC9e/filltuAQDU1tZCoVDgu+++w9SpU9vVYjQaYTT+fIWFwWBASEgIAw2RHWk1C7yflouTJQYUVjegsLoRJfqmdncUf3fuGCQOvfZ/bIjI/thkUrBerwcA+Pr6AgBycnKg0+mQmJhoaSOVShEfH4+0tDQsWrQI6enpaG5utmqj1WoRGxuLtLQ0TJ8+HX5+fhgyZAj++c9/YvTo0ZBKpXjnnXegVqsxZsyYDmtJSUnBqlWrrqc7RGRjzk4S/G5ShOW5EAKF1Y3Yd7YCy7ZkAgBUciniowNsVSIR9VHdDjRCCCxduhSTJk1CbGwsAECn0wEA1Gq1VVu1Wo28vDxLGzc3N/j4+LRrc/H1EokEO3fuxOzZsyGXy+Hk5AS1Wo1vv/0W3t7eHdazbNkyLF261PL84ggNEdmHVrNAdmkt0vOqcaywBmfK6nC2tA61RuubbP5ldiykLlygj4isdTvQJCUl4dixY9i3b1+7fZcvey6EuOZS6Je2EULg0UcfhUqlwvfffw+ZTIb33nsPd9xxB3766ScEBga2e71UKoVUKu1ud4jIBsxmgY1pudid1bYacZ2x/R3CXZwkCPf3RKTKCyNDvJHA0Rki6kC3As2SJUuwfft27N27F8HBwZbtFyfr6nQ6q9BRVlZmGbXRaDQwmUyorq62GqUpKyvDxIkTAQC7du3Cl19+ierqasv5s7feegs7d+7E+++/jz/96U/dKZuI+ghTixkZBTX46GAetmUUW7Z7SV0wKtQbo0K8Ea1RIFLthXA/T7i58BJuIrq6LgUaIQSWLFmCrVu3Ys+ePYiIiLDaHxERAY1Gg507d2LUqFEAAJPJhNTUVKxduxYAMGbMGLi6umLnzp249957AQAlJSU4fvw4XnrpJQBAQ0MDAMDJyfqHmJOTE8xmcze6SUR9wedHivDBgTycLDZY7uwtkQBPJUbj1sEqRKnlcHbijS2JqOu6FGgWL16Mjz/+GNu2bYNcLrfMeVEqlZDJZJBIJEhOTsaaNWsQGRmJyMhIrFmzBh4eHpgzZ46l7YIFC/Dkk0/Cz88Pvr6+eOqppzBs2DBMmzYNADBhwgT4+Phg3rx5+J//+R/IZDL8/e9/R05ODmbOnNnDfwRE1Buq6k1I/jTD8tzP0w0TBvrhnrEhiI/iaSQiuj5dCjTr168HACQkJFht37BhA+bPnw8AePrpp9HY2IhHH30U1dXViIuLw44dOyxr0ADAq6++ChcXF9x7771obGzE1KlTsXHjRssaNP7+/vj222+xfPly3HrrrWhubsbQoUOxbds2jBgx4jq6S0S9wdjSihPFBhzOq8bRwrbbHeRU1Fu12b9sKk8lEVGP4a0PiOi6VdQZkZ5XjcN51W1XKRXpYWppf3pYq3RHmJ8n7h0XjF+OCu7gnYiov+PNKYmo15QZmrAnuxwHzlficF41cisb2rXx9XTD6FAfjAr1RmyQErFaBfy8eCUiEd0YDDRE1CmF1Q3Y9GM+dp8ux8kSQ7v9UWovjAnzxZgwH4wJ80G4n8c1l2sgIuopDDREdFXHi/T4YH8eNh8uRMuFWxBIJMDwICVuiQzA2HAfjAr1gVLGeysRke0w0BBRh749XoI3dp/F8aKfR2MmDvTDPWODMTkygKePiKhPYaAhIitFNY34JrMEL3x9CkK03ek6cagav705HGPCfG1dHhFRhxhoiPo5fWMz9p+rxA9nK7DvbIXV5dW/HhOMZ38xBL6ebjaskIjo2hhoiPoZs1ngaGENdp8uw94zFThWWAPzJYs3ODtJMCJYicShGjw8KQIuzlwrhoj6PgYaon6iuKYRL+/IwtYjRbh89akBAZ64ZZA/bh7kj/ED/aBw5wRfIrIvDDRE/cTfvz+PLYeLLM9nDg9EfFQAJg3yh9ZbZsPKiIiuHwMNUT/Q1NyKltafh2Wi1F54c85oG1ZERNSzGGiIHJQQArmVDdh5Uof3vs9BWa0RACB3d8Gf74ixcXVERD2LgYbIwej0TXhz91mkZpcjv+rnWxIEecvw2NRB+NXoYLhyoi8RORgGGiIHIoTA7zb+ZLk1gauzBOPCfTFzeCB+PSYYUhdnG1dIRHRjMNAQOZAvjpXgZIkBnm7OePW+kZg4yB9eUv4zJyLHx590RA4g7VwF/vbdGfyYUwUAeHBCGBKHamxcFRFR72GgIbJj58vr8HbqOfzrUCEAwMVJgtkjg/DYrZE2royIqHcx0BDZobRzFfj9P9NRZ2yxbHtwfCiSpkRCo3S3YWVERLbBQENkh57611GrMPOX2UPx0IRw2xVERGRjvHaTyA6tnDXU6vnL/8nCodwqiMvvaUBE1E9IhIP+BDQYDFAqldDr9VAoFLYuh+iGOK0z4E+bM5FRUAMAiAlU4NEpA3HHcK1tCyMi6qbufn9zhIbIjg3WKPCPeWNx9+hguLk44WSJAY9tOoL6S05HERH1Bww0RHbOz0uKv947Aj8+OxWuzhKYBVDdYLJ1WUREvYqBhshBeHu4QSlzBQDM+ftB7DxZauOKiIh6DwMNkQN5bGrb+jP5VQ149KN0ThImon6Dl20TOYBWs8DOkzq8ufssAMDZSYKnpw+GRCKxcWVERL2DgYbIjgkh8MGBPLz3fY7lztoDAjzx6r0jMSLE27bFERH1IgYaIjv27/RC/M+2EwAApczVslqwzI131Sai/oWBhsiOpWaXW37/zIzBmBMXasNqiIhsh5OCiexY0q2DEK2WAwCe3ZqJ0zqDjSsiIrINBhoiOzZYo8BXj03C1MEqAMAfPjyMEn2jjasiIup9DDREds7F2QnLfjEYAJBTUY9NB/NtXBERUe9joCFyAKdKai2/nzWS93Eiov6Hk4KJ7JgQAieKDVi/55xl28AALxtWRERkGww0RHamqt6Eo4U1SDtbgW9P6FBQ1TZnxsVJgj/dzsX0iKh/YqAh6sMMTc04VWzAiWIDjhbWIKOgBnmVDVZt3F2dkBClwpKpgzBUq7RRpUREtsVAQ9RHNLeacTivGgdzqnCy2IATJXrL6MvlBvh7YlSoD26LUSE+SsWF9Iio32OgIbKhmgYT/nNCh12ny/DD2UrUGVvatQnylmFIoALDg5UYGeKNEcHeUHq42qBaIqK+q0uBJiUlBVu2bMHp06chk8kwceJErF27FtHR0ZY2QgisWrUK7777LqqrqxEXF4c333wTQ4cOtbQxGo146qmnsGnTJjQ2NmLq1Kl46623EBwc3O4zjUYj4uLicPToURw5cgQjR47sfm+J+gCzWWDHyVL8O70AqdnlaG79+Y7Yvp5uuHmQP0YEKxETqECMVgFvDzcbVktEZB+6FGhSU1OxePFijBs3Di0tLVi+fDkSExNx8uRJeHp6AgBeeuklvPLKK9i4cSOioqKwevVq3HbbbcjKyoJc3raiaXJyMr744gt88skn8PPzw5NPPok77rgD6enpcHa2Hjp/+umnodVqcfTo0R7qMpHtHCuswXOfH8exQr1l25BABW6P1SAhOgCxWiWcnDipl4ioqyRCCHHtZh0rLy+HSqVCamoqJk+eDCEEtFotkpOT8cwzzwBoG2FRq9VYu3YtFi1aBL1ej4CAAHzwwQe47777AADFxcUICQnB119/jenTp1ve/5tvvsHSpUuxefNmDB06tEsjNAaDAUqlEnq9HgqFortdJOox+oZmxL+8GzUNzfB0c8bcCeH41eggRF24dQEREXX/+/u6FtbT69v+l+nr6wsAyMnJgU6nQ2JioqWNVCpFfHw80tLSAADp6elobm62aqPVahEbG2tpAwClpaVYuHAhPvjgA3h4eFyzFqPRCIPBYPUg6ku2HS1CTUMzBgR4IvXpKfjT7YMZZoiIeki3A40QAkuXLsWkSZMQGxsLANDpdAAAtVpt1VatVlv26XQ6uLm5wcfH54pthBCYP38+HnnkEYwdO7ZT9aSkpECpVFoeISEh3e0a0Q1RVW8CAAzVKuHvJbVxNUREjqXbgSYpKQnHjh3Dpk2b2u27fGEvIcQ1F/u6tM3rr78Og8GAZcuWdbqeZcuWQa/XWx4FBQWdfi1RbxgX3jaSmXa2wsaVEBE5nm4FmiVLlmD79u3YvXu31ZVJGo0GwM8jNReVlZVZRm00Gg1MJhOqq6uv2GbXrl04cOAApFIpXFxcMGjQIADA2LFjMW/evA5rkkqlUCgUVg+iviTMr+3UaUeXZhMR0fXpUqARQiApKQlbtmzBrl27EBERYbU/IiICGo0GO3futGwzmUxITU3FxIkTAQBjxoyBq6urVZuSkhIcP37c0ua1117D0aNHkZGRgYyMDHz99dcAgE8//RQvvPBC93pK1Ed0exY+ERFdUZcu2168eDE+/vhjbNu2DXK53DISo1QqIZPJIJFIkJycjDVr1iAyMhKRkZFYs2YNPDw8MGfOHEvbBQsW4Mknn4Sfnx98fX3x1FNPYdiwYZg2bRoAIDQ01OpzvbzabrY3cODADteqIbIHtU1tIzNCCBhbWiF14eq+REQ9pUuBZv369QCAhIQEq+0bNmzA/PnzAbStG9PY2IhHH33UsrDejh07LGvQAMCrr74KFxcX3HvvvZaF9TZu3NhuDRoiR6KSt00Ebm4VSDtXiSnRKhtXRETkOK5rHZq+jOvQUF/QYGrBjzlV2JZRjG+Ol6Cp2QxvD1f8d2k8/HilExFRO939/ua9nIh6WJauFl9llmD/uQpkFNRY3dogUuWFVbOHMswQEfUwBhqiHlJRZ0TK16ex5UghLh33DPKWISE6APeMDcGIYOU1lzAgIqKuY6Ah6iFL/3UUe7PLAQDThqgxbYgKEwf6I8RXxhBDRHSDMdAQXSedvgmfHSqwhJl/zBuLqUPU13gVERH1JAYaoi4qNTThwPnKC48q5FTUW/YtmjyAYYaIyAYYaIiuodHUil2ny7DvbHm7AAMAThIgNkiJ+8aFYM5NoVd4FyIiupEYaIg6IITAD2crseVwIf5zQod6U6tln0QCxGqVGD/AF+MH+GFchC8U7q42rJaIiBhoiC7RahbYeqQIf997HlmltZbtIb4yJMZoMOFCgFHKGGCIiPoSBhoitJ1WSs+rxss7spBRUAMA8HRzxq9GB+OuUUEYHerNK5WIiPowBhrqd1pazcirakC2rhaH86vxU241jhfp0WJuWzxGLnXBo1MGYU5cKEdiiIjsBAMNOawGUwvyKhuQV9mAc+V1yC6tRXZpHc6V18HUYm7XXq2QIj4qAEtvi4ZG6W6DiomIqLsYaMjuldcakXauArkVDcirqkd+ZQPyqhpQXmu84mtkrs4YpPLC8GAlxob7YGyYL4J9uAAeEZG9YqAhu1RvbMHmw4X46lgJfsqtgvkKt1j19nBFmK8HIvw9EaWRI0olR5RajmAfGZycGF6IiBwFAw3ZneNFeiR9fBi5lQ2WbbFBCsQEKhDm54lQXw+E+XkgzNcTSg/OgSEi6g8YaMiuNJha8MB7B6FvbEag0h0LJkVgRqwGwT4eti6NiIhsiIGG7MbxIj2e/NdR6Bub4e3him8evwXeHm62LouIiPoABhqyC18cLcaTnx2FqcUMhbsL/nrPCIYZIiKyYKChPk0IgR0nS/HYJ0cgBDBtiAopvxqOALnU1qUREVEfwkBDfVJ2aS2+OFqML44WWyb/3j06GC/9ejiceXUSERFdhoGG+gQhBLJL6/DdqVJ8cbQYp3U/30dJ5uqMWSO0WDV7KMMMERF1iIGGbKapuRVfHivBvjPl2He2EhV1Py+E5+osQXyUCneOCMRtMWp4uPGvKhERXRm/JcgmsktrkfxJBk6WGCzb3F2dEBfhh18M02DG0ECuIUNERJ3GQEO9pqLOiH8dKsCXR0ssQcbP0w1z4kJx8yB/jAr1htTF2cZVEhGRPWKgoRtOCIGfcquR9PFhlF24v5KLkwQJ0So8f9dQBCplNq6QiIjsHQMN3TAVdUb8O70QWw8XIau0bZLvwABPPHzLAMwYqoGPJ9eRISKinsFAQz2uztiCd1LP4R/7ctBgagUAuDk74c4RWqycFQO5O+fGEBFRz2KgoR5VWWfEg//4EacuzJEZFqTEnLhQ/CKWk3yJiOjGYaChHvXu3vOWMPP2g6MxfagGEgnXjiEiohvLydYFkGMZP9DP8vsth4tQrG+yYTVERNRfMNBQj5oSrcLS26Lg7CTBjpOluOvNH3CuvM7WZRERkYNjoKEe99jUSHzz+C0AgPJaI1Z/edLGFRERkaNjoKEeJ4TA3uxyy/Ox4b42rIaIiPoDBhrqcd8c12H1V6cAALfFqPH7yQNsXBERETk6XuVEPW5bRhEA4NdjgrHu18N5lRMREd1wDDTUIxpMLThTWofP0gvwnxOlAIBZI7QMM0RE1CsYaKhLzGaB8xX1OFGsR3ZpLbJL65BdWov8qgYI8XO7SYP8cVME584QEVHvYKChq6ptasbe7AocK6zB0cIaHC8yoM7Y0mFbfy83jAj2xsLJAzB+gF+HbYiIiG6ELk0KTklJwbhx4yCXy6FSqXDXXXchKyvLqo0QAitXroRWq4VMJkNCQgJOnDhh1cZoNGLJkiXw9/eHp6cnZs2ahcLCQqs21dXVmDt3LpRKJZRKJebOnYuampru9ZK67GxZLZZvzcT4Nf/F4o8P452953HgfBXqjC1wd3XC6FBv3H9TKFbeGYOPF8bh0HPTcOi52/CP+eMYZoiIqNdJhLj0RMHVzZgxA7/5zW8wbtw4tLS0YPny5cjMzMTJkyfh6ekJAFi7di1eeOEFbNy4EVFRUVi9ejX27t2LrKwsyOVyAMAf/vAHfPHFF9i4cSP8/Pzw5JNPoqqqCunp6XB2dgYA3H777SgsLMS7774LAPj973+P8PBwfPHFF52q1WAwQKlUQq/XQ6FQdOkPpb/bfboMiz5Ih6nVDAAY4O+JCQP9MCLYG8NDlBgU4AUXZ14gR0REPa+7399dCjSXKy8vh0qlQmpqKiZPngwhBLRaLZKTk/HMM88AaBuNUavVWLt2LRYtWgS9Xo+AgAB88MEHuO+++wAAxcXFCAkJwddff43p06fj1KlTiImJwYEDBxAXFwcAOHDgACZMmIDTp08jOjr6mrUx0HSNqcWM/ecr8d735/H9mQoAwMSBflhyayTGD/Dl5F4iIuoV3f3+vq45NHq9HgDg69s2+TMnJwc6nQ6JiYmWNlKpFPHx8UhLS8OiRYuQnp6O5uZmqzZarRaxsbFIS0vD9OnTsX//fiiVSkuYAYDx48dDqVQiLS2tw0BjNBphNBotzw0Gw/V0rV/Ir2xAanYZUrMrsP9cBepNrQAAJwlw79gQ/GV2LNxcOBJDRER9X7cDjRACS5cuxaRJkxAbGwsA0Ol0AAC1Wm3VVq1WIy8vz9LGzc0NPj4+7dpcfL1Op4NKpWr3mSqVytLmcikpKVi1alV3u9MvNJhasP9cJfZmlyM1uxy5lQ1W+/293DBzWCAevmUAQnw9bFQlERFR13U70CQlJeHYsWPYt29fu32Xn54QQlzzlMXlbTpqf7X3WbZsGZYuXWp5bjAYEBISctXP7A/Oldfhu5OlSM0ux6Hcasu8GABwcZJgTJgPJkcFID4qADGBCjg58dQSERHZn24FmiVLlmD79u3Yu3cvgoODLds1Gg2AthGWwMBAy/aysjLLqI1Go4HJZEJ1dbXVKE1ZWRkmTpxoaVNaWtruc8vLy9uN/lwklUohlUq70x2HI4TAvrMV+Pv3OVb3VAKAYB8Z4i8EmAkD/SB3d7VRlURERD2nS4FGCIElS5Zg69at2LNnDyIiIqz2R0REQKPRYOfOnRg1ahQAwGQyITU1FWvXrgUAjBkzBq6urti5cyfuvfdeAEBJSQmOHz+Ol156CQAwYcIE6PV6/Pjjj7jpppsAAAcPHoRer7eEHupYcU0j/mfbcXx3qgxA23yYWyIDMCU6AJOjAhDh78kJvkRE5HC6FGgWL16Mjz/+GNu2bYNcLrfMZ1EqlZDJZJBIJEhOTsaaNWsQGRmJyMhIrFmzBh4eHpgzZ46l7YIFC/Dkk0/Cz88Pvr6+eOqppzBs2DBMmzYNADBkyBDMmDEDCxcuxDvvvAOg7bLtO+64o1NXOPVHhqZmvJN6Dv/Yl4OmZjNcnSV4IC4Mv7s5AqF+nA9DRESOrUuBZv369QCAhIQEq+0bNmzA/PnzAQBPP/00Ghsb8eijj6K6uhpxcXHYsWOHZQ0aAHj11Vfh4uKCe++9F42NjZg6dSo2btxoWYMGAD766CM89thjlquhZs2ahTfeeKM7fXRoxTWNeD8tFx8fzEfthRV8bwr3xepfxiJKLb/Gq4mIiBzDda1D05c58jo0phYz/nNCh8/SC7HvTDnMF45gpMoLT02PRmKMmqeViIjILtlkHRrqfbtOl+L5L08hp6Lesm3CAD8snByBhCgVr1IiIqJ+iYHGjmw5XIil/zoKoG3NmPtvCsWvxwQjzM/TxpURERHZFgONnWg1C6z+6hQA4P6bQvDsL4bwkmsiIqILGGjshLGlFVX1JgDA8pkx8JLy0BEREV3EG/XYCadLJvmWGppsWAkREVHfw0BjJ9xdnTFI5QUAeO2/Z2xcDRERUd/CQGMnhBBwc247XBqFu42rISIi6lsYaOxAqaEJiz5Ix8kSA2Suzpg3MdzWJREREfUpnFnax+n0TfjlWz+gRN8EFycJVs0eCq23zNZlERER9SkMNH2YEAJPfJqBEn0TBvh74q0HR2OwxrFWPSYiIuoJDDR9lBACr+86i/3nK+Hm7IQNvx3HBfSIiIiugHNo+qjXd53FKzuzAQCPTR3EMENERHQVHKHpg9LOVeBv37WFmRV3xuC3N0fYuCIiIqK+jSM0fdDyrcdhFsDskVqGGSIiok5goOmDmlvNAIAzpXU2roSIiMg+MND0QVKXtsMS6uth40qIiIjsA+fQ9CFNza14d+95nCuvBwAsmTrIxhURERHZBwaaPqK4phEPv38IJ0sMAIBbIv255gwREVEnMdDYWGWdEX//Pgf/3J+LBlMr/DzdsHLWUNwxPBCSS+6wTURERFfGQGMjZrPARz/m46VvT6O2qQUAMDLEG2/MGYVgH86dISIi6goGGhswtrQi+ZMMfHNcBwCICVTgqelRmBKt4qgMERFRNzDQ9LLmVjP+8OFh7DpdBjdnJyz7xWA8NCEczk4MMkRERN3FQNNLThTrsfVwEbYfLUZZrRFSFyf83/xxuHmQv61LIyIisnsMNDdYmaEJq786he1Hiy3bfDxc8ep9IxlmiIiIeggDzQ3Q1NyK/5zQYXtGMVKzy9FiFnCSADNiNfjlqGDERwXAzYVrGhIREfUUBpobYOE/D+H7MxWW56NDvfGX2bGIDVLasCoiIiLHxUDTg2qbmvFO6nlLmJkTF4rfTgxHpFpu48qIiIgcGwNND/rTlkx8dawEADB9qBov3BXLy7CJiIh6ASdy9KBTxW23LQjyluHtB8cwzBAREfUSBpoecji/Gucr2m4q+dT0KIYZIiKiXsRTTj0g7WwFnt58DADwy1FB+OWoYBtXRERE1L8w0FynH3Oq8MA/DkKItlNNT8+ItnVJRERE/Q4DzXX616ECCAGMC/fB/80fB7m7q61LIiIi6nc4h+Y6ebg5AwAGBngxzBAREdkIA811CvfzBADsO1txjZZERER0ozDQXIdNP+bjha9PAQCGBCpsXA0REVH/xTk03VBW24QXvjqFbRltN5z81aggpNw9zMZVERER9V9dHqHZu3cv7rzzTmi1WkgkEnz++edW+0tLSzF//nxotVp4eHhgxowZOHPmjFWbc+fO4Ze//CUCAgKgUChw7733orS0tN1nffXVV4iLi4NMJoO/vz9+9atfdbXcG+Lu9WmWMJM8LRJ/vXcEpC7ONq6KiIio/+pyoKmvr8eIESPwxhtvtNsnhMBdd92F8+fPY9u2bThy5AjCwsIwbdo01NfXW16fmJgIiUSCXbt24YcffoDJZMKdd94Js9lsea/Nmzdj7ty5+O1vf4ujR4/ihx9+wJw5c66jqz1DCIHimiYAwIo7Y5A8jYvoERER2VqXTzndfvvtuP322zvcd+bMGRw4cADHjx/H0KFDAQBvvfUWVCoVNm3ahIcffhg//PADcnNzceTIESgUbfNONmzYAF9fX+zatQvTpk1DS0sLHn/8caxbtw4LFiywvH90tO3XeDlfUY9WswAA3DzI38bVEBEREdDDk4KNRiMAwN3d3bLN2dkZbm5u2Ldvn6WNRCKBVCq1tHF3d4eTk5OlzeHDh1FUVAQnJyeMGjUKgYGBuP3223HixImrfrbBYLB63AjeMld4e7Rdnv2vnwpuyGcQERFR1/RooBk8eDDCwsKwbNkyVFdXw2Qy4cUXX4ROp0NJSdtdqMePHw9PT08888wzaGhoQH19Pf74xz/CbDZb2pw/fx4AsHLlSjz33HP48ssv4ePjg/j4eFRVVXX42SkpKVAqlZZHSEhIT3bNws9Liv+5IwYA8N/TZRBC3JDPISIios7r0UDj6uqKzZs3Izs7G76+vvDw8MCePXtw++23w9m5bdJsQEAAPvvsM3zxxRfw8vKCUqmEXq/H6NGjLW0uzqVZvnw57r77bowZMwYbNmyARCLBZ5991uFnL1u2DHq93vIoKLhxoydTB6sBADkV9fgpt/qGfQ4RERF1To9ftj1mzBhkZGRAr9fDZDIhICAAcXFxGDt2rKVNYmIizp07h4qKCri4uMDb2xsajQYREREAgMDAQABATEyM5TVSqRQDBgxAfn5+h58rlUqtTmPdSPvPty2i5+osga+nW698JhEREV3ZDVtYT6lUIiAgAGfOnMGhQ4cwe/bsdm38/f3h7e2NXbt2oaysDLNmzQLQFoqkUimysrIsbZubm5Gbm4uwsLAbVXKnnSmtAwDcOUKLQSovG1dDREREXR6hqaurw9mzZy3Pc3JykJGRAV9fX4SGhuKzzz5DQEAAQkNDkZmZiccffxx33XUXEhMTLa/ZsGEDhgwZgoCAAOzfvx+PP/44nnjiCctVTAqFAo888ghWrFiBkJAQhIWFYd26dQCAe+6553r73GOq600QQvCybSIiIhvrcqA5dOgQpkyZYnm+dOlSAMC8efOwceNGlJSUYOnSpSgtLUVgYCAeeugh/PnPf7Z6j6ysLCxbtgxVVVUIDw/H8uXL8cQTT1i1WbduHVxcXDB37lw0NjYiLi4Ou3btgo+PT3f62aPiBvgBAHZnleNfhwpw37hQG1dERETUv0mEg16mYzAYLBOOL65301NO6wyY8bfvAQD/+5uRmD0yqEffn4iIqL/q7vc3b07ZDf+3LwcAMG2ICrNGaG1cDRERETHQdFGjqdVyH6f7bwrl/BkiIqI+gIGmiyQSIEDednn4C1+fQm1Ts40rIiIiIgaaLnJ3dcamheOhVbrjfHk9lm3J5GrBRERENsZA0w0hvh5444HRcHGS4MtjJfjoYMeL/REREVHvYKDpptGhPnhmxmC4OTvBifNoiIiIbKrHb33Qnzx8SwSmDlFhQABXCyYiIrIljtBcB4lEwjBDRETUBzDQEBERkd1joCEiIiK7x0BDREREdo+BhoiIiOweAw0RERHZPQYaIiIisnsMNERERGT3GGiIiIjI7jHQEBERkd1joCEiIiK7x0BDREREdo+BhoiIiOweAw0RERHZPRdbF3CjCCEAAAaDwcaVEBERUWdd/N6++D3eWQ4baGprawEAISEhNq6EiIiIuqq2thZKpbLT7SWiqxHITpjNZhQXF0Mul0Mikdi6nBvKYDAgJCQEBQUFUCgUti7nhmJfHRP76pjYV8d0o/sqhEBtbS20Wi2cnDo/M8ZhR2icnJwQHBxs6zJ6lUKhcPh/SBexr46JfXVM7KtjupF97crIzEWcFExERER2j4GGiIiI7B4DjQOQSqVYsWIFpFKprUu54dhXx8S+Oib21TH11b467KRgIiIi6j84QkNERER2j4GGiIiI7B4DDREREdk9BhoiIiKyeww0vWDv3r248847odVqIZFI8Pnnn1vtF0Jg5cqV0Gq1kMlkSEhIwIkTJ6zaGI1GLFmyBP7+/vD09MSsWbNQWFho1aa6uhpz586FUqmEUqnE3LlzUVNTY9UmPz8fd955Jzw9PeHv74/HHnsMJpPJqk1mZibi4+Mhk8kQFBSEv/zlL52+p8a1+jp//nxIJBKrx/jx4+2yrykpKRg3bhzkcjlUKhXuuusuZGVlWbVxlGPbmb46yrFdv349hg8fblk0bMKECfjmm28s+x3lmHamr45yTC+XkpICiUSC5ORkyzZHOq6d6a9DHltBN9zXX38tli9fLjZv3iwAiK1bt1rtf/HFF4VcLhebN28WmZmZ4r777hOBgYHCYDBY2jzyyCMiKChI7Ny5Uxw+fFhMmTJFjBgxQrS0tFjazJgxQ8TGxoq0tDSRlpYmYmNjxR133GHZ39LSImJjY8WUKVPE4cOHxc6dO4VWqxVJSUmWNnq9XqjVavGb3/xGZGZmis2bNwu5XC5efvnlHunrvHnzxIwZM0RJSYnlUVlZadXGXvo6ffp0sWHDBnH8+HGRkZEhZs6cKUJDQ0VdXZ2ljaMc28701VGO7fbt28VXX30lsrKyRFZWlnj22WeFq6urOH78uBDCcY5pZ/rqKMf0Uj/++KMIDw8Xw4cPF48//rhluyMd18701xGPLQNNL7v8S95sNguNRiNefPFFy7ampiahVCrF22+/LYQQoqamRri6uopPPvnE0qaoqEg4OTmJb7/9VgghxMmTJwUAceDAAUub/fv3CwDi9OnTQoi2sOHk5CSKioosbTZt2iSkUqnQ6/VCCCHeeustoVQqRVNTk6VNSkqK0Gq1wmw2X1dfhWj7RzR79uwrvsZe+yqEEGVlZQKASE1NFUI49rG9vK9COPax9fHxEe+9955DH9PL+yqE4x3T2tpaERkZKXbu3Cni4+MtX/COelyv1F8hHO/YCiEETznZWE5ODnQ6HRITEy3bpFIp4uPjkZaWBgBIT09Hc3OzVRutVovY2FhLm/3790OpVCIuLs7SZvz48VAqlVZtYmNjodVqLW2mT58Oo9GI9PR0S5v4+HirBZOmT5+O4uJi5Obm9kif9+zZA5VKhaioKCxcuBBlZWWWffbcV71eDwDw9fUF4NjH9vK+XuRox7a1tRWffPIJ6uvrMWHCBIc+ppf39SJHOqaLFy/GzJkzMW3aNKvtjnpcr9Tfixzp2AKcQ2NzOp0OAKBWq622q9Vqyz6dTgc3Nzf4+PhctY1KpWr3/iqVyqrN5Z/j4+MDNze3q7a5+Pxim+tx++2346OPPsKuXbvw17/+FT/99BNuvfVWGI1Gu+6rEAJLly7FpEmTEBsba/UejnZsO+or4FjHNjMzE15eXpBKpXjkkUewdetWxMTEOOQxvVJfAcc6pp988gkOHz6MlJSUdvsc8bherb+AYx3bixz2btv2RiKRWD0XQrTbdrnL23TUvifaiAsTs65VT2fcd999lt/HxsZi7NixCAsLw1dffYVf/epXV3xdX+9rUlISjh07hn379rXb52jH9kp9daRjGx0djYyMDNTU1GDz5s2YN28eUlNTr/re9npMr9TXmJgYhzmmBQUFePzxx7Fjxw64u7tfsZ2jHNfO9NdRju2lOEJjYxqNBkD7FFpWVmZJqBqNBiaTCdXV1VdtU1pa2u79y8vLrdpc/jnV1dVobm6+apuLw5CXJ+ieEBgYiLCwMJw5c8by+fbW1yVLlmD79u3YvXs3goODLdsd8dheqa8dsedj6+bmhkGDBmHs2LFISUnBiBEj8L//+78OeUyv1NeO2OsxTU9PR1lZGcaMGQMXFxe4uLggNTUVr732GlxcXK44GmCvx/Va/W1tbW33Gns9tlY6PduGegSuMCl47dq1lm1Go7HDyWiffvqppU1xcXGHk7MOHjxoaXPgwIEOJ2cVFxdb2nzyySftJmd5e3sLo9FoafPiiy/22KTgy1VUVAipVCref/99u+ur2WwWixcvFlqtVmRnZ3e431GO7bX62hF7PraXu/XWW8W8efMc6pheq68dsddjajAYRGZmptVj7Nix4sEHHxSZmZkOd1yv1d+O2OuxvRQDTS+ora0VR44cEUeOHBEAxCuvvCKOHDki8vLyhBBtB06pVIotW7aIzMxMcf/993d4uWBwcLD47rvvxOHDh8Wtt97a4eVzw4cPF/v37xf79+8Xw4YN6/DyualTp4rDhw+L7777TgQHB1tdPldTUyPUarW4//77RWZmptiyZYtQKBSdvnzuan2tra0VTz75pEhLSxM5OTli9+7dYsKECSIoKMgu+/qHP/xBKJVKsWfPHqtLHxsaGixtHOXYXquvjnRsly1bJvbu3StycnLEsWPHxLPPPiucnJzEjh07HOqYXquvjnRMO3L5VT+OdFyv1V9HPbYMNL1g9+7dAkC7x8X/BZnNZrFixQqh0WiEVCoVkydPbpeiGxsbRVJSkvD19RUymUzccccdIj8/36pNZWWleOCBB4RcLhdyuVw88MADorq62qpNXl6emDlzppDJZMLX11ckJSVZXSonhBDHjh0Tt9xyi5BKpUKj0YiVK1d2OiVfra8NDQ0iMTFRBAQECFdXVxEaGirmzZvXrh/20teO+glAbNiwwdLGUY7ttfrqSMf2d7/7nQgLCxNubm4iICBATJ061RJmhHCcY3qtvjrSMe3I5YHGkY7rtfrrqMdWIkQ3lx4kIiIi6iM4KZiIiIjsHgMNERER2T0GGiIiIrJ7DDRERERk9xhoiIiIyO4x0BAREZHdY6AhIiIiu8dAQ0RERHaPgYaI7EZubi4kEgkyMjJsXQoR9TFcKZiI7EZrayvKy8vh7+8PFxcXW5dDRH0IAw0R2QWTyQQ3Nzdbl0FEfRRPORGRTSQkJCApKQlJSUnw9vaGn58fnnvuOVz8P1Z4eDhWr16N+fPnQ6lUYuHChR2ecjpx4gRmzpwJhUIBuVyOW265BefOnbPs37BhA4YMGQJ3d3cMHjwYb731Vm93lYh6Acdsichm3n//fSxYsAAHDx7EoUOH8Pvf/x5hYWFYuHAhAGDdunX485//jOeee67D1xcVFWHy5MlISEjArl27oFAo8MMPP6ClpQUA8Pe//x0rVqzAG2+8gVGjRuHIkSNYuHAhPD09MW/evF7rJxHdeDzlREQ2kZCQgLKyMpw4cQISiQQA8Kc//Qnbt2/HyZMnER4ejlGjRmHr1q2W1+Tm5iIiIgJHjhzByJEj8eyzz+KTTz5BVlYWXF1d231GaGgo1q5di/vvv9+ybfXq1fj666+RlpZ24ztJRL2Gp5yIyGbGjx9vCTMAMGHCBJw5cwatra0AgLFjx1719RkZGbjllls6DDPl5eUoKCjAggUL4OXlZXmsXr3a6pQUETkGnnIioj7L09PzqvtlMtkV95nNZgBtp53i4uKs9jk7O19/cUTUpzDQEJHNHDhwoN3zyMjITgeO4cOH4/3330dzc3O7URq1Wo2goCCcP38eDzzwQI/VTER9E085EZHNFBQUYOnSpcjKysKmTZvw+uuv4/HHH+/065OSkmAwGPCb3/wGhw4dwpkzZ/DBBx8gKysLALBy5UqkpKTgf//3f5GdnY3MzExs2LABr7zyyo3qEhHZCEdoiMhmHnroITQ2NuKmm26Cs7MzlixZgt///vedfr2fnx927dqFP/7xj4iPj4ezszNGjhyJm2++GQDw8MMPw8PDA+vWrcPTTz8NT09PDBs2DMnJyTeoR0RkK7zKiYhsIiEhASNHjsTf/vY3W5dCRA6Ap5yIiIjI7jHQEBERkd3jKSciIiKyexyhISIiIrvHQENERER2j4GGiIiI7B4DDREREdk9BhoiIiKyeww0REREZPcYaIiIiMjuMdAQERGR3ft/V6cOGdDpPCgAAAAASUVORK5CYII=\n",
      "text/plain": [
       "<Figure size 640x480 with 1 Axes>"
      ]
     },
     "metadata": {},
     "output_type": "display_data"
    }
   ],
   "source": [
    "%matplotlib inline\n",
    "sdf = df[df['Borough'] == 'Sutton']\n",
    "sdf.plot('price', 'date')\n",
    "plt.show()\n",
    "\n",
    "\n"
   ]
  },
  {
   "cell_type": "markdown",
   "metadata": {
    "colab_type": "text",
    "id": "aWTPqSJeqHnC"
   },
   "source": [
    "To limit the number of data points you have, you might want to extract the year from every month value your *Month* column. \n",
    "\n",
    "To this end, you *could* apply a ***lambda function***. Your logic could work as follows:\n",
    "1. look through the `Month` column\n",
    "2. extract the year from each individual value in that column \n",
    "3. store that corresponding year as separate column. \n",
    "\n",
    "Whether you go ahead with this is up to you. Just so long as you answer our initial brief: which boroughs of London have seen the greatest house price increase, on average, over the past two decades? "
   ]
  },
  {
   "cell_type": "code",
<<<<<<< HEAD
   "execution_count": 116,
=======
   "execution_count": 10,
>>>>>>> c6308ce03cc318f41e9de78225af037fd116aefb
   "metadata": {},
   "outputs": [
    {
     "data": {
      "text/html": [
       "<div>\n",
       "<style scoped>\n",
       "    .dataframe tbody tr th:only-of-type {\n",
       "        vertical-align: middle;\n",
       "    }\n",
       "\n",
       "    .dataframe tbody tr th {\n",
       "        vertical-align: top;\n",
       "    }\n",
       "\n",
       "    .dataframe thead th {\n",
       "        text-align: right;\n",
       "    }\n",
       "</style>\n",
       "<table border=\"1\" class=\"dataframe\">\n",
       "  <thead>\n",
       "    <tr style=\"text-align: right;\">\n",
       "      <th></th>\n",
       "      <th>Borough</th>\n",
       "      <th>ID</th>\n",
       "      <th>date</th>\n",
       "      <th>price</th>\n",
       "      <th>year</th>\n",
       "    </tr>\n",
       "  </thead>\n",
       "  <tbody>\n",
       "    <tr>\n",
       "      <th>0</th>\n",
       "      <td>Barking &amp; Dagenham</td>\n",
       "      <td>E09000002</td>\n",
       "      <td>1995-01-01</td>\n",
       "      <td>50460.22660</td>\n",
       "      <td>1995</td>\n",
       "    </tr>\n",
       "    <tr>\n",
       "      <th>32</th>\n",
       "      <td>Barking &amp; Dagenham</td>\n",
       "      <td>E09000002</td>\n",
       "      <td>1995-02-01</td>\n",
       "      <td>51085.77983</td>\n",
       "      <td>1995</td>\n",
       "    </tr>\n",
       "    <tr>\n",
       "      <th>64</th>\n",
       "      <td>Barking &amp; Dagenham</td>\n",
       "      <td>E09000002</td>\n",
       "      <td>1995-03-01</td>\n",
       "      <td>51268.96956</td>\n",
       "      <td>1995</td>\n",
       "    </tr>\n",
       "    <tr>\n",
       "      <th>96</th>\n",
       "      <td>Barking &amp; Dagenham</td>\n",
       "      <td>E09000002</td>\n",
       "      <td>1995-04-01</td>\n",
       "      <td>53133.50526</td>\n",
       "      <td>1995</td>\n",
       "    </tr>\n",
       "    <tr>\n",
       "      <th>128</th>\n",
       "      <td>Barking &amp; Dagenham</td>\n",
       "      <td>E09000002</td>\n",
       "      <td>1995-05-01</td>\n",
       "      <td>53042.24852</td>\n",
       "      <td>1995</td>\n",
       "    </tr>\n",
       "    <tr>\n",
       "      <th>...</th>\n",
       "      <td>...</td>\n",
       "      <td>...</td>\n",
       "      <td>...</td>\n",
       "      <td>...</td>\n",
       "      <td>...</td>\n",
       "    </tr>\n",
       "    <tr>\n",
       "      <th>10623</th>\n",
       "      <td>Westminster</td>\n",
       "      <td>E09000033</td>\n",
       "      <td>2022-08-01</td>\n",
       "      <td>962929.98088</td>\n",
       "      <td>2022</td>\n",
       "    </tr>\n",
       "    <tr>\n",
       "      <th>10655</th>\n",
       "      <td>Westminster</td>\n",
       "      <td>E09000033</td>\n",
       "      <td>2022-09-01</td>\n",
       "      <td>929921.82356</td>\n",
       "      <td>2022</td>\n",
       "    </tr>\n",
       "    <tr>\n",
       "      <th>10687</th>\n",
       "      <td>Westminster</td>\n",
       "      <td>E09000033</td>\n",
       "      <td>2022-10-01</td>\n",
       "      <td>928549.81199</td>\n",
       "      <td>2022</td>\n",
       "    </tr>\n",
       "    <tr>\n",
       "      <th>10719</th>\n",
       "      <td>Westminster</td>\n",
       "      <td>E09000033</td>\n",
       "      <td>2022-11-01</td>\n",
       "      <td>909744.62797</td>\n",
       "      <td>2022</td>\n",
       "    </tr>\n",
       "    <tr>\n",
       "      <th>10751</th>\n",
       "      <td>Westminster</td>\n",
       "      <td>E09000033</td>\n",
       "      <td>2022-12-01</td>\n",
       "      <td>910286.63571</td>\n",
       "      <td>2022</td>\n",
       "    </tr>\n",
       "  </tbody>\n",
       "</table>\n",
       "<p>10752 rows × 5 columns</p>\n",
       "</div>"
      ],
      "text/plain": [
       "                  Borough         ID       date         price  year\n",
       "0      Barking & Dagenham  E09000002 1995-01-01   50460.22660  1995\n",
       "32     Barking & Dagenham  E09000002 1995-02-01   51085.77983  1995\n",
       "64     Barking & Dagenham  E09000002 1995-03-01   51268.96956  1995\n",
       "96     Barking & Dagenham  E09000002 1995-04-01   53133.50526  1995\n",
       "128    Barking & Dagenham  E09000002 1995-05-01   53042.24852  1995\n",
       "...                   ...        ...        ...           ...   ...\n",
       "10623         Westminster  E09000033 2022-08-01  962929.98088  2022\n",
       "10655         Westminster  E09000033 2022-09-01  929921.82356  2022\n",
       "10687         Westminster  E09000033 2022-10-01  928549.81199  2022\n",
       "10719         Westminster  E09000033 2022-11-01  909744.62797  2022\n",
       "10751         Westminster  E09000033 2022-12-01  910286.63571  2022\n",
       "\n",
       "[10752 rows x 5 columns]"
      ]
     },
<<<<<<< HEAD
     "execution_count": 116,
=======
     "execution_count": 10,
>>>>>>> c6308ce03cc318f41e9de78225af037fd116aefb
     "metadata": {},
     "output_type": "execute_result"
    }
   ],
   "source": [
    "df['year'] = df['date'].dt.year\n",
    "\n",
    "df.sort_values(by=['year','Borough'])\n",
    "\n",
    "\n"
   ]
  },
  {
   "cell_type": "markdown",
   "metadata": {
    "colab_type": "text",
    "id": "2knuTxAEqoJ4"
   },
   "source": [
    "**3. Modeling**\n",
    "\n",
    "Consider creating a function that will calculate a ratio of house prices, comparing the price of a house in 2018 to the price in 1998.\n",
    "\n",
    "Consider calling this function create_price_ratio.\n",
    "\n",
    "You'd want this function to:\n",
    "1. Take a filter of dfg, specifically where this filter constrains the London_Borough, as an argument. For example, one admissible argument should be: dfg[dfg['London_Borough']=='Camden'].\n",
    "2. Get the Average Price for that Borough, for the years 1998 and 2018.\n",
    "4. Calculate the ratio of the Average Price for 1998 divided by the Average Price for 2018.\n",
    "5. Return that ratio.\n",
    "\n",
    "Once you've written this function, you ultimately want to use it to iterate through all the unique London_Boroughs and work out the ratio capturing the difference of house prices between 1998 and 2018.\n",
    "\n",
    "Bear in mind: you don't have to write a function like this if you don't want to. If you can solve the brief otherwise, then great! \n",
    "\n",
    "***Hint***: This section should test the skills you acquired in:\n",
    "- Python Data Science Toolbox - Part One, all modules"
   ]
  },
  {
   "cell_type": "code",
<<<<<<< HEAD
   "execution_count": 118,
=======
   "execution_count": 20,
>>>>>>> c6308ce03cc318f41e9de78225af037fd116aefb
   "metadata": {
    "colab": {},
    "colab_type": "code",
    "id": "cKTyr437UgDa"
   },
   "outputs": [],
   "source": [
    "\n",
    "def function_create_price_ratio(filter):\n",
    "    p = 0\n",
    "    \n",
    "    p1 = 0\n",
    "    \n",
    "    ydf = filter[filter['year'] == 1998]\n",
    " \n",
    "    for row in ydf.iterrows():\n",
    "        ind, data = row\n",
    "        \n",
    "        p += data['price']\n",
    "        \n",
    "        \n",
    "    y1df = filter[filter['year'] == 2018]\n",
    "    for row in y1df.iterrows():\n",
    "        ind, data = row\n",
    "        \n",
    "        p1 += data['price']\n",
    "        \n",
<<<<<<< HEAD
    "    return ((c / p) / (c1 / p1))\n",
=======
    "        \n",
    "    return p1 / p\n",
>>>>>>> c6308ce03cc318f41e9de78225af037fd116aefb
    "lstx = []\n",
    "lsty = []            \n",
    "for b in boroughs:\n",
    "    lsty.append(function_create_price_ratio(df[df['Borough'] == b]))\n",
    "    lstx.append(b)\n"
   ]
  },
  {
   "cell_type": "code",
<<<<<<< HEAD
   "execution_count": 120,
=======
   "execution_count": 22,
>>>>>>> c6308ce03cc318f41e9de78225af037fd116aefb
   "metadata": {},
   "outputs": [
    {
     "data": {
<<<<<<< HEAD
      "image/png": "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\n",
=======
      "image/png": "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\n",
>>>>>>> c6308ce03cc318f41e9de78225af037fd116aefb
      "text/plain": [
       "<Figure size 640x480 with 1 Axes>"
      ]
     },
     "metadata": {},
     "output_type": "display_data"
    }
   ],
   "source": [
    "plt.bar(lstx, lsty, align='edge')\n",
    "plt.bar(range(len(lstx)), lsty)\n",
    "plt.xticks(range(len(lstx)), lstx, rotation='vertical')\n",
<<<<<<< HEAD
    "plt.title('The Factor by which London House Prices Have Increased from 1998 to 2018')\n",
=======
    "\n",
    "plt.yticks([i for i in np.arange(0, 7, .5)])\n",
    "plt.title('The Factor Per Borough by which London House Prices Have Increased from 1998 to 2018')\n",
>>>>>>> c6308ce03cc318f41e9de78225af037fd116aefb
    "plt.show()"
   ]
  },
  {
   "cell_type": "markdown",
   "metadata": {
    "colab_type": "text",
    "id": "NzYUI7FxJpgv"
   },
   "source": [
    "### 4. Conclusion\n",
    "What can you conclude? Type out your conclusion below. \n",
    "\n",
    "Look back at your notebook. Think about how you might summarize what you have done, and prepare a quick presentation on it to your mentor at your next meeting. \n",
    "\n",
    "We hope you enjoyed this practical project. It should have consolidated your data hygiene and pandas skills by looking at a real-world problem involving just the kind of dataset you might encounter as a budding data scientist. Congratulations, and looking forward to seeing you at the next step in the course! "
   ]
  },
  {
   "cell_type": "markdown",
   "metadata": {},
   "source": [
<<<<<<< HEAD
    "Of all the boroughs in London, Hackney has had the largest increase in house prices between 1998 and 2018"
=======
    "Of all the boroughs in London, Hackney has had the largest increase in average house prices between 1998 and 2018 by a factor of approximately 6.25. However, all of the boroughs had their average house prices increase by at least a factor of 4 (approximately)."
>>>>>>> c6308ce03cc318f41e9de78225af037fd116aefb
   ]
  }
 ],
 "metadata": {
  "colab": {
   "collapsed_sections": [],
   "name": "Springboard Data Science Career Track Unit 4 Challenge - Tier 3 Complete .ipynb",
   "provenance": []
  },
  "kernelspec": {
   "display_name": "Python 3 (ipykernel)",
   "language": "python",
   "name": "python3"
  },
  "language_info": {
   "codemirror_mode": {
    "name": "ipython",
    "version": 3
   },
   "file_extension": ".py",
   "mimetype": "text/x-python",
   "name": "python",
   "nbconvert_exporter": "python",
   "pygments_lexer": "ipython3",
   "version": "3.9.16"
  }
 },
 "nbformat": 4,
 "nbformat_minor": 1
}
